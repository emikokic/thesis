{
 "cells": [
  {
   "cell_type": "code",
   "execution_count": 96,
   "metadata": {},
   "outputs": [],
   "source": [
    "import pandas as pd\n",
    "import numpy as np\n",
    "import seaborn as sns\n",
    "import matplotlib.pyplot as plt"
   ]
  },
  {
   "cell_type": "markdown",
   "metadata": {},
   "source": [
    "# Experimento 1\n",
    "\n",
    "Datos:\n",
    "\n",
    "100000 -> training\n",
    "\n",
    "&nbsp; 20000 -> validation\n",
    " \n",
    "&nbsp; 20000 -> test\n",
    "\n",
    "Se fija los 100k como datos no anotados y:\n",
    "\n",
    "a) Se utiliza 25% de datos de training anotados.\n",
    "\n",
    "b) Se utiliza 50% de datos de training anotados.\n",
    "\n",
    "c) Se utiliza 75% de datos de training anotados.\n",
    "\n",
    "d) Se utiliza 100% de datos de training anotados."
   ]
  },
  {
   "cell_type": "code",
   "execution_count": 36,
   "metadata": {},
   "outputs": [],
   "source": [
    "results = pd.read_csv('../models/experiments/results_cnn_ladder_exp_1.csv')"
   ]
  },
  {
   "cell_type": "code",
   "execution_count": 48,
   "metadata": {},
   "outputs": [
    {
     "data": {
      "text/html": [
       "<div>\n",
       "<style scoped>\n",
       "    .dataframe tbody tr th:only-of-type {\n",
       "        vertical-align: middle;\n",
       "    }\n",
       "\n",
       "    .dataframe tbody tr th {\n",
       "        vertical-align: top;\n",
       "    }\n",
       "\n",
       "    .dataframe thead th {\n",
       "        text-align: right;\n",
       "    }\n",
       "</style>\n",
       "<table border=\"1\" class=\"dataframe\">\n",
       "  <thead>\n",
       "    <tr style=\"text-align: right;\">\n",
       "      <th></th>\n",
       "      <th>experiment</th>\n",
       "      <th>split</th>\n",
       "      <th>epoch</th>\n",
       "      <th>accuracy</th>\n",
       "      <th>lloss</th>\n",
       "      <th>true</th>\n",
       "      <th>pred</th>\n",
       "    </tr>\n",
       "  </thead>\n",
       "  <tbody>\n",
       "    <tr>\n",
       "      <th>0</th>\n",
       "      <td>exp_1_a_cnn_ladder</td>\n",
       "      <td>training</td>\n",
       "      <td>1</td>\n",
       "      <td>0.608</td>\n",
       "      <td>1.08</td>\n",
       "      <td>3</td>\n",
       "      <td>3</td>\n",
       "    </tr>\n",
       "    <tr>\n",
       "      <th>1</th>\n",
       "      <td>exp_1_a_cnn_ladder</td>\n",
       "      <td>training</td>\n",
       "      <td>1</td>\n",
       "      <td>0.608</td>\n",
       "      <td>1.08</td>\n",
       "      <td>3</td>\n",
       "      <td>3</td>\n",
       "    </tr>\n",
       "    <tr>\n",
       "      <th>2</th>\n",
       "      <td>exp_1_a_cnn_ladder</td>\n",
       "      <td>training</td>\n",
       "      <td>1</td>\n",
       "      <td>0.608</td>\n",
       "      <td>1.08</td>\n",
       "      <td>3</td>\n",
       "      <td>2</td>\n",
       "    </tr>\n",
       "    <tr>\n",
       "      <th>3</th>\n",
       "      <td>exp_1_a_cnn_ladder</td>\n",
       "      <td>training</td>\n",
       "      <td>1</td>\n",
       "      <td>0.608</td>\n",
       "      <td>1.08</td>\n",
       "      <td>1</td>\n",
       "      <td>1</td>\n",
       "    </tr>\n",
       "    <tr>\n",
       "      <th>4</th>\n",
       "      <td>exp_1_a_cnn_ladder</td>\n",
       "      <td>training</td>\n",
       "      <td>1</td>\n",
       "      <td>0.608</td>\n",
       "      <td>1.08</td>\n",
       "      <td>1</td>\n",
       "      <td>2</td>\n",
       "    </tr>\n",
       "  </tbody>\n",
       "</table>\n",
       "</div>"
      ],
      "text/plain": [
       "           experiment     split  epoch  accuracy  lloss  true  pred\n",
       "0  exp_1_a_cnn_ladder  training      1     0.608   1.08     3     3\n",
       "1  exp_1_a_cnn_ladder  training      1     0.608   1.08     3     3\n",
       "2  exp_1_a_cnn_ladder  training      1     0.608   1.08     3     2\n",
       "3  exp_1_a_cnn_ladder  training      1     0.608   1.08     1     1\n",
       "4  exp_1_a_cnn_ladder  training      1     0.608   1.08     1     2"
      ]
     },
     "execution_count": 48,
     "metadata": {},
     "output_type": "execute_result"
    }
   ],
   "source": [
    "results.head()"
   ]
  },
  {
   "cell_type": "code",
   "execution_count": 40,
   "metadata": {},
   "outputs": [
    {
     "data": {
      "text/plain": [
       "array(['exp_1_a_cnn_ladder', 'exp_1_b_cnn_ladder', 'exp_1_c_cnn_ladder',\n",
       "       'exp_1_d_cnn_ladder'], dtype=object)"
      ]
     },
     "execution_count": 40,
     "metadata": {},
     "output_type": "execute_result"
    }
   ],
   "source": [
    "exp_names = results.experiment.unique()\n",
    "exp_names"
   ]
  },
  {
   "cell_type": "code",
   "execution_count": 41,
   "metadata": {},
   "outputs": [],
   "source": [
    "exp_1_a_cnn_ladder = results[results.experiment == exp_names[0]]\n",
    "exp_1_b_cnn_ladder = results[results.experiment == exp_names[1]]\n",
    "exp_1_c_cnn_ladder = results[results.experiment == exp_names[2]]\n",
    "exp_1_d_cnn_ladder = results[results.experiment == exp_names[3]]"
   ]
  },
  {
   "cell_type": "markdown",
   "metadata": {},
   "source": [
    "### Experimento 1 a)"
   ]
  },
  {
   "cell_type": "code",
   "execution_count": 43,
   "metadata": {},
   "outputs": [
    {
     "data": {
      "text/html": [
       "<div>\n",
       "<style scoped>\n",
       "    .dataframe tbody tr th:only-of-type {\n",
       "        vertical-align: middle;\n",
       "    }\n",
       "\n",
       "    .dataframe tbody tr th {\n",
       "        vertical-align: top;\n",
       "    }\n",
       "\n",
       "    .dataframe thead th {\n",
       "        text-align: right;\n",
       "    }\n",
       "</style>\n",
       "<table border=\"1\" class=\"dataframe\">\n",
       "  <thead>\n",
       "    <tr style=\"text-align: right;\">\n",
       "      <th></th>\n",
       "      <th>count</th>\n",
       "      <th>mean</th>\n",
       "      <th>std</th>\n",
       "      <th>min</th>\n",
       "      <th>25%</th>\n",
       "      <th>50%</th>\n",
       "      <th>75%</th>\n",
       "      <th>max</th>\n",
       "    </tr>\n",
       "    <tr>\n",
       "      <th>split</th>\n",
       "      <th></th>\n",
       "      <th></th>\n",
       "      <th></th>\n",
       "      <th></th>\n",
       "      <th></th>\n",
       "      <th></th>\n",
       "      <th></th>\n",
       "      <th></th>\n",
       "    </tr>\n",
       "  </thead>\n",
       "  <tbody>\n",
       "    <tr>\n",
       "      <th>test</th>\n",
       "      <td>20000.0</td>\n",
       "      <td>0.543906</td>\n",
       "      <td>0.116030</td>\n",
       "      <td>0.193</td>\n",
       "      <td>0.504</td>\n",
       "      <td>0.585</td>\n",
       "      <td>0.605</td>\n",
       "      <td>0.648</td>\n",
       "    </tr>\n",
       "    <tr>\n",
       "      <th>training</th>\n",
       "      <td>500000.0</td>\n",
       "      <td>0.635338</td>\n",
       "      <td>0.017906</td>\n",
       "      <td>0.568</td>\n",
       "      <td>0.625</td>\n",
       "      <td>0.636</td>\n",
       "      <td>0.647</td>\n",
       "      <td>0.696</td>\n",
       "    </tr>\n",
       "    <tr>\n",
       "      <th>validation</th>\n",
       "      <td>400000.0</td>\n",
       "      <td>0.579446</td>\n",
       "      <td>0.042029</td>\n",
       "      <td>0.407</td>\n",
       "      <td>0.557</td>\n",
       "      <td>0.578</td>\n",
       "      <td>0.603</td>\n",
       "      <td>0.665</td>\n",
       "    </tr>\n",
       "  </tbody>\n",
       "</table>\n",
       "</div>"
      ],
      "text/plain": [
       "               count      mean       std    min    25%    50%    75%    max\n",
       "split                                                                      \n",
       "test         20000.0  0.543906  0.116030  0.193  0.504  0.585  0.605  0.648\n",
       "training    500000.0  0.635338  0.017906  0.568  0.625  0.636  0.647  0.696\n",
       "validation  400000.0  0.579446  0.042029  0.407  0.557  0.578  0.603  0.665"
      ]
     },
     "execution_count": 43,
     "metadata": {},
     "output_type": "execute_result"
    }
   ],
   "source": [
    "split_group = exp_1_a_cnn_ladder.groupby('split')\n",
    "split_group.accuracy.describe()"
   ]
  },
  {
   "cell_type": "markdown",
   "metadata": {},
   "source": [
    "### Experimento 1 b)"
   ]
  },
  {
   "cell_type": "code",
   "execution_count": 44,
   "metadata": {},
   "outputs": [
    {
     "data": {
      "text/html": [
       "<div>\n",
       "<style scoped>\n",
       "    .dataframe tbody tr th:only-of-type {\n",
       "        vertical-align: middle;\n",
       "    }\n",
       "\n",
       "    .dataframe tbody tr th {\n",
       "        vertical-align: top;\n",
       "    }\n",
       "\n",
       "    .dataframe thead th {\n",
       "        text-align: right;\n",
       "    }\n",
       "</style>\n",
       "<table border=\"1\" class=\"dataframe\">\n",
       "  <thead>\n",
       "    <tr style=\"text-align: right;\">\n",
       "      <th></th>\n",
       "      <th>count</th>\n",
       "      <th>mean</th>\n",
       "      <th>std</th>\n",
       "      <th>min</th>\n",
       "      <th>25%</th>\n",
       "      <th>50%</th>\n",
       "      <th>75%</th>\n",
       "      <th>max</th>\n",
       "    </tr>\n",
       "    <tr>\n",
       "      <th>split</th>\n",
       "      <th></th>\n",
       "      <th></th>\n",
       "      <th></th>\n",
       "      <th></th>\n",
       "      <th></th>\n",
       "      <th></th>\n",
       "      <th></th>\n",
       "      <th></th>\n",
       "    </tr>\n",
       "  </thead>\n",
       "  <tbody>\n",
       "    <tr>\n",
       "      <th>test</th>\n",
       "      <td>20000.0</td>\n",
       "      <td>0.664432</td>\n",
       "      <td>0.042503</td>\n",
       "      <td>0.529</td>\n",
       "      <td>0.654</td>\n",
       "      <td>0.668</td>\n",
       "      <td>0.701</td>\n",
       "      <td>0.713</td>\n",
       "    </tr>\n",
       "    <tr>\n",
       "      <th>training</th>\n",
       "      <td>922280.0</td>\n",
       "      <td>0.668796</td>\n",
       "      <td>0.022398</td>\n",
       "      <td>0.441</td>\n",
       "      <td>0.657</td>\n",
       "      <td>0.672</td>\n",
       "      <td>0.684</td>\n",
       "      <td>0.765</td>\n",
       "    </tr>\n",
       "    <tr>\n",
       "      <th>validation</th>\n",
       "      <td>400000.0</td>\n",
       "      <td>0.661866</td>\n",
       "      <td>0.027850</td>\n",
       "      <td>0.590</td>\n",
       "      <td>0.642</td>\n",
       "      <td>0.664</td>\n",
       "      <td>0.684</td>\n",
       "      <td>0.729</td>\n",
       "    </tr>\n",
       "  </tbody>\n",
       "</table>\n",
       "</div>"
      ],
      "text/plain": [
       "               count      mean       std    min    25%    50%    75%    max\n",
       "split                                                                      \n",
       "test         20000.0  0.664432  0.042503  0.529  0.654  0.668  0.701  0.713\n",
       "training    922280.0  0.668796  0.022398  0.441  0.657  0.672  0.684  0.765\n",
       "validation  400000.0  0.661866  0.027850  0.590  0.642  0.664  0.684  0.729"
      ]
     },
     "execution_count": 44,
     "metadata": {},
     "output_type": "execute_result"
    }
   ],
   "source": [
    "split_group = exp_1_b_cnn_ladder.groupby('split')\n",
    "split_group.accuracy.describe()"
   ]
  },
  {
   "cell_type": "markdown",
   "metadata": {},
   "source": [
    "### Experimento 1 c)"
   ]
  },
  {
   "cell_type": "code",
   "execution_count": 45,
   "metadata": {},
   "outputs": [
    {
     "data": {
      "text/html": [
       "<div>\n",
       "<style scoped>\n",
       "    .dataframe tbody tr th:only-of-type {\n",
       "        vertical-align: middle;\n",
       "    }\n",
       "\n",
       "    .dataframe tbody tr th {\n",
       "        vertical-align: top;\n",
       "    }\n",
       "\n",
       "    .dataframe thead th {\n",
       "        text-align: right;\n",
       "    }\n",
       "</style>\n",
       "<table border=\"1\" class=\"dataframe\">\n",
       "  <thead>\n",
       "    <tr style=\"text-align: right;\">\n",
       "      <th></th>\n",
       "      <th>count</th>\n",
       "      <th>mean</th>\n",
       "      <th>std</th>\n",
       "      <th>min</th>\n",
       "      <th>25%</th>\n",
       "      <th>50%</th>\n",
       "      <th>75%</th>\n",
       "      <th>max</th>\n",
       "    </tr>\n",
       "    <tr>\n",
       "      <th>split</th>\n",
       "      <th></th>\n",
       "      <th></th>\n",
       "      <th></th>\n",
       "      <th></th>\n",
       "      <th></th>\n",
       "      <th></th>\n",
       "      <th></th>\n",
       "      <th></th>\n",
       "    </tr>\n",
       "  </thead>\n",
       "  <tbody>\n",
       "    <tr>\n",
       "      <th>test</th>\n",
       "      <td>20000.0</td>\n",
       "      <td>0.675898</td>\n",
       "      <td>0.040569</td>\n",
       "      <td>0.553</td>\n",
       "      <td>0.656</td>\n",
       "      <td>0.680</td>\n",
       "      <td>0.710</td>\n",
       "      <td>0.733</td>\n",
       "    </tr>\n",
       "    <tr>\n",
       "      <th>training</th>\n",
       "      <td>1161260.0</td>\n",
       "      <td>0.660827</td>\n",
       "      <td>0.019480</td>\n",
       "      <td>0.587</td>\n",
       "      <td>0.648</td>\n",
       "      <td>0.662</td>\n",
       "      <td>0.675</td>\n",
       "      <td>0.708</td>\n",
       "    </tr>\n",
       "    <tr>\n",
       "      <th>validation</th>\n",
       "      <td>400000.0</td>\n",
       "      <td>0.673795</td>\n",
       "      <td>0.023705</td>\n",
       "      <td>0.568</td>\n",
       "      <td>0.660</td>\n",
       "      <td>0.674</td>\n",
       "      <td>0.688</td>\n",
       "      <td>0.729</td>\n",
       "    </tr>\n",
       "  </tbody>\n",
       "</table>\n",
       "</div>"
      ],
      "text/plain": [
       "                count      mean       std    min    25%    50%    75%    max\n",
       "split                                                                       \n",
       "test          20000.0  0.675898  0.040569  0.553  0.656  0.680  0.710  0.733\n",
       "training    1161260.0  0.660827  0.019480  0.587  0.648  0.662  0.675  0.708\n",
       "validation   400000.0  0.673795  0.023705  0.568  0.660  0.674  0.688  0.729"
      ]
     },
     "execution_count": 45,
     "metadata": {},
     "output_type": "execute_result"
    }
   ],
   "source": [
    "split_group = exp_1_c_cnn_ladder.groupby('split')\n",
    "split_group.accuracy.describe()"
   ]
  },
  {
   "cell_type": "markdown",
   "metadata": {},
   "source": [
    "### Experimento 1 d)"
   ]
  },
  {
   "cell_type": "code",
   "execution_count": 46,
   "metadata": {},
   "outputs": [
    {
     "data": {
      "text/html": [
       "<div>\n",
       "<style scoped>\n",
       "    .dataframe tbody tr th:only-of-type {\n",
       "        vertical-align: middle;\n",
       "    }\n",
       "\n",
       "    .dataframe tbody tr th {\n",
       "        vertical-align: top;\n",
       "    }\n",
       "\n",
       "    .dataframe thead th {\n",
       "        text-align: right;\n",
       "    }\n",
       "</style>\n",
       "<table border=\"1\" class=\"dataframe\">\n",
       "  <thead>\n",
       "    <tr style=\"text-align: right;\">\n",
       "      <th></th>\n",
       "      <th>count</th>\n",
       "      <th>mean</th>\n",
       "      <th>std</th>\n",
       "      <th>min</th>\n",
       "      <th>25%</th>\n",
       "      <th>50%</th>\n",
       "      <th>75%</th>\n",
       "      <th>max</th>\n",
       "    </tr>\n",
       "    <tr>\n",
       "      <th>split</th>\n",
       "      <th></th>\n",
       "      <th></th>\n",
       "      <th></th>\n",
       "      <th></th>\n",
       "      <th></th>\n",
       "      <th></th>\n",
       "      <th></th>\n",
       "      <th></th>\n",
       "    </tr>\n",
       "  </thead>\n",
       "  <tbody>\n",
       "    <tr>\n",
       "      <th>test</th>\n",
       "      <td>20000.0</td>\n",
       "      <td>0.640008</td>\n",
       "      <td>0.046708</td>\n",
       "      <td>0.520</td>\n",
       "      <td>0.606</td>\n",
       "      <td>0.657</td>\n",
       "      <td>0.674</td>\n",
       "      <td>0.699</td>\n",
       "    </tr>\n",
       "    <tr>\n",
       "      <th>training</th>\n",
       "      <td>1309840.0</td>\n",
       "      <td>0.588331</td>\n",
       "      <td>0.041039</td>\n",
       "      <td>0.384</td>\n",
       "      <td>0.584</td>\n",
       "      <td>0.597</td>\n",
       "      <td>0.608</td>\n",
       "      <td>0.648</td>\n",
       "    </tr>\n",
       "    <tr>\n",
       "      <th>validation</th>\n",
       "      <td>400000.0</td>\n",
       "      <td>0.631340</td>\n",
       "      <td>0.049608</td>\n",
       "      <td>0.383</td>\n",
       "      <td>0.622</td>\n",
       "      <td>0.639</td>\n",
       "      <td>0.653</td>\n",
       "      <td>0.714</td>\n",
       "    </tr>\n",
       "  </tbody>\n",
       "</table>\n",
       "</div>"
      ],
      "text/plain": [
       "                count      mean       std    min    25%    50%    75%    max\n",
       "split                                                                       \n",
       "test          20000.0  0.640008  0.046708  0.520  0.606  0.657  0.674  0.699\n",
       "training    1309840.0  0.588331  0.041039  0.384  0.584  0.597  0.608  0.648\n",
       "validation   400000.0  0.631340  0.049608  0.383  0.622  0.639  0.653  0.714"
      ]
     },
     "execution_count": 46,
     "metadata": {},
     "output_type": "execute_result"
    }
   ],
   "source": [
    "split_group = exp_1_d_cnn_ladder.groupby('split')\n",
    "split_group.accuracy.describe()"
   ]
  },
  {
   "cell_type": "code",
   "execution_count": 65,
   "metadata": {},
   "outputs": [
    {
     "name": "stderr",
     "output_type": "stream",
     "text": [
      "/home/ekokic/miniconda3/envs/thesis-tf-gpu/lib/python3.5/site-packages/scipy/stats/stats.py:1713: FutureWarning: Using a non-tuple sequence for multidimensional indexing is deprecated; use `arr[tuple(seq)]` instead of `arr[seq]`. In the future this will be interpreted as an array index, `arr[np.array(seq)]`, which will result either in an error or a different result.\n",
      "  return np.add.reduce(sorted[indexer] * weights, axis=axis) / sumval\n"
     ]
    },
    {
     "data": {
      "text/plain": [
       "[]"
      ]
     },
     "execution_count": 65,
     "metadata": {},
     "output_type": "execute_result"
    },
    {
     "data": {
      "image/png": "[encoded data removed]",
      "text/plain": [
       "<Figure size 1296x360 with 2 Axes>"
      ]
     },
     "metadata": {},
     "output_type": "display_data"
    }
   ],
   "source": [
    "fig, ax = plt.subplots(nrows=1, ncols=2, figsize=(18, 5))\n",
    "sns.set_style('darkgrid')\n",
    "ax_acc = sns.lineplot(x='epoch', y='accuracy', hue='experiment', \n",
    "                      data=results[results.split == 'training'], ax=ax[0])\n",
    "ax_acc.set_title('Training accuracy')\n",
    "ax_acc.plot()\n",
    "ax_l = sns.lineplot(x='epoch', y='lloss', hue='experiment', \n",
    "                    data=results[results.split == 'training'], ax=ax[1])\n",
    "ax_l.set_title('Training labeled loss')\n",
    "ax_l.plot()"
   ]
  },
  {
   "cell_type": "code",
   "execution_count": 66,
   "metadata": {},
   "outputs": [
    {
     "name": "stderr",
     "output_type": "stream",
     "text": [
      "/home/ekokic/miniconda3/envs/thesis-tf-gpu/lib/python3.5/site-packages/scipy/stats/stats.py:1713: FutureWarning: Using a non-tuple sequence for multidimensional indexing is deprecated; use `arr[tuple(seq)]` instead of `arr[seq]`. In the future this will be interpreted as an array index, `arr[np.array(seq)]`, which will result either in an error or a different result.\n",
      "  return np.add.reduce(sorted[indexer] * weights, axis=axis) / sumval\n"
     ]
    },
    {
     "data": {
      "text/plain": [
       "[]"
      ]
     },
     "execution_count": 66,
     "metadata": {},
     "output_type": "execute_result"
    },
    {
     "data": {
      "image/png": "[encoded data removed]",
      "text/plain": [
       "<Figure size 1296x360 with 2 Axes>"
      ]
     },
     "metadata": {},
     "output_type": "display_data"
    }
   ],
   "source": [
    "fig, ax = plt.subplots(nrows=1, ncols=2, figsize=(18, 5))\n",
    "sns.set_style('darkgrid')\n",
    "ax_acc = sns.lineplot(x='epoch', y='accuracy', hue='experiment', \n",
    "                      data=results[results.split == 'validation'], ax=ax[0])\n",
    "ax_acc.set_title('Validation accuracy')\n",
    "ax_acc.plot()\n",
    "ax_l = sns.lineplot(x='epoch', y='lloss', hue='experiment', \n",
    "                    data=results[results.split == 'validation'], ax=ax[1])\n",
    "ax_l.set_title('Validation labeled loss')\n",
    "ax_l.plot()"
   ]
  },
  {
   "cell_type": "code",
   "execution_count": 106,
   "metadata": {},
   "outputs": [
    {
     "data": {
      "text/plain": [
       "array([0.707, 0.638, 0.641, 0.553, 0.72 , 0.733, 0.684, 0.717, 0.672,\n",
       "       0.692, 0.68 , 0.675, 0.698, 0.71 , 0.711, 0.656, 0.668, 0.651,\n",
       "       0.67 , 0.612])"
      ]
     },
     "execution_count": 106,
     "metadata": {},
     "output_type": "execute_result"
    }
   ],
   "source": [
    "test_metrics_sample = exp_1_c_cnn_ladder[exp_1_c_cnn_ladder.split == 'test']\n",
    "test_metrics_sample.accuracy.unique()"
   ]
  },
  {
   "cell_type": "code",
   "execution_count": 107,
   "metadata": {},
   "outputs": [
    {
     "name": "stdout",
     "output_type": "stream",
     "text": [
      "19.53125\n",
      "20\n"
     ]
    }
   ],
   "source": [
    "print(test_metrics_sample.shape[0] / 1024) # 1024 == batch size\n",
    "print(len(test_metrics_sample.accuracy.unique()))"
   ]
  },
  {
   "cell_type": "code",
   "execution_count": 108,
   "metadata": {},
   "outputs": [
    {
     "data": {
      "text/plain": [
       "0.6744"
      ]
     },
     "execution_count": 108,
     "metadata": {},
     "output_type": "execute_result"
    }
   ],
   "source": [
    "test_acc = test_metrics_sample.accuracy.unique()\n",
    "np.mean(test_acc)"
   ]
  },
  {
   "cell_type": "markdown",
   "metadata": {},
   "source": [
    "Corramos el experimento 1 c) más épocas y veamos si mejora."
   ]
  },
  {
   "cell_type": "code",
   "execution_count": 109,
   "metadata": {},
   "outputs": [],
   "source": [
    "exp_1_c_50_epochs = pd.read_csv('../models/experiments/results_cnn_ladder_exp_1_c_50_epochs.csv')"
   ]
  },
  {
   "cell_type": "code",
   "execution_count": 111,
   "metadata": {},
   "outputs": [
    {
     "data": {
      "text/html": [
       "<div>\n",
       "<style scoped>\n",
       "    .dataframe tbody tr th:only-of-type {\n",
       "        vertical-align: middle;\n",
       "    }\n",
       "\n",
       "    .dataframe tbody tr th {\n",
       "        vertical-align: top;\n",
       "    }\n",
       "\n",
       "    .dataframe thead th {\n",
       "        text-align: right;\n",
       "    }\n",
       "</style>\n",
       "<table border=\"1\" class=\"dataframe\">\n",
       "  <thead>\n",
       "    <tr style=\"text-align: right;\">\n",
       "      <th></th>\n",
       "      <th>experiment</th>\n",
       "      <th>split</th>\n",
       "      <th>epoch</th>\n",
       "      <th>accuracy</th>\n",
       "      <th>lloss</th>\n",
       "      <th>true</th>\n",
       "      <th>pred</th>\n",
       "    </tr>\n",
       "  </thead>\n",
       "  <tbody>\n",
       "    <tr>\n",
       "      <th>0</th>\n",
       "      <td>exp_1_c_50_epochs_cnn_ladder</td>\n",
       "      <td>training</td>\n",
       "      <td>1</td>\n",
       "      <td>0.573</td>\n",
       "      <td>1.2</td>\n",
       "      <td>3</td>\n",
       "      <td>4</td>\n",
       "    </tr>\n",
       "    <tr>\n",
       "      <th>1</th>\n",
       "      <td>exp_1_c_50_epochs_cnn_ladder</td>\n",
       "      <td>training</td>\n",
       "      <td>1</td>\n",
       "      <td>0.573</td>\n",
       "      <td>1.2</td>\n",
       "      <td>3</td>\n",
       "      <td>4</td>\n",
       "    </tr>\n",
       "    <tr>\n",
       "      <th>2</th>\n",
       "      <td>exp_1_c_50_epochs_cnn_ladder</td>\n",
       "      <td>training</td>\n",
       "      <td>1</td>\n",
       "      <td>0.573</td>\n",
       "      <td>1.2</td>\n",
       "      <td>1</td>\n",
       "      <td>1</td>\n",
       "    </tr>\n",
       "    <tr>\n",
       "      <th>3</th>\n",
       "      <td>exp_1_c_50_epochs_cnn_ladder</td>\n",
       "      <td>training</td>\n",
       "      <td>1</td>\n",
       "      <td>0.573</td>\n",
       "      <td>1.2</td>\n",
       "      <td>4</td>\n",
       "      <td>4</td>\n",
       "    </tr>\n",
       "    <tr>\n",
       "      <th>4</th>\n",
       "      <td>exp_1_c_50_epochs_cnn_ladder</td>\n",
       "      <td>training</td>\n",
       "      <td>1</td>\n",
       "      <td>0.573</td>\n",
       "      <td>1.2</td>\n",
       "      <td>0</td>\n",
       "      <td>4</td>\n",
       "    </tr>\n",
       "  </tbody>\n",
       "</table>\n",
       "</div>"
      ],
      "text/plain": [
       "                     experiment     split  epoch  accuracy  lloss  true  pred\n",
       "0  exp_1_c_50_epochs_cnn_ladder  training      1     0.573    1.2     3     4\n",
       "1  exp_1_c_50_epochs_cnn_ladder  training      1     0.573    1.2     3     4\n",
       "2  exp_1_c_50_epochs_cnn_ladder  training      1     0.573    1.2     1     1\n",
       "3  exp_1_c_50_epochs_cnn_ladder  training      1     0.573    1.2     4     4\n",
       "4  exp_1_c_50_epochs_cnn_ladder  training      1     0.573    1.2     0     4"
      ]
     },
     "execution_count": 111,
     "metadata": {},
     "output_type": "execute_result"
    }
   ],
   "source": [
    "exp_1_c_50_epochs.head()"
   ]
  },
  {
   "cell_type": "code",
   "execution_count": 112,
   "metadata": {},
   "outputs": [
    {
     "data": {
      "text/html": [
       "<div>\n",
       "<style scoped>\n",
       "    .dataframe tbody tr th:only-of-type {\n",
       "        vertical-align: middle;\n",
       "    }\n",
       "\n",
       "    .dataframe tbody tr th {\n",
       "        vertical-align: top;\n",
       "    }\n",
       "\n",
       "    .dataframe thead th {\n",
       "        text-align: right;\n",
       "    }\n",
       "</style>\n",
       "<table border=\"1\" class=\"dataframe\">\n",
       "  <thead>\n",
       "    <tr style=\"text-align: right;\">\n",
       "      <th></th>\n",
       "      <th>count</th>\n",
       "      <th>mean</th>\n",
       "      <th>std</th>\n",
       "      <th>min</th>\n",
       "      <th>25%</th>\n",
       "      <th>50%</th>\n",
       "      <th>75%</th>\n",
       "      <th>max</th>\n",
       "    </tr>\n",
       "    <tr>\n",
       "      <th>split</th>\n",
       "      <th></th>\n",
       "      <th></th>\n",
       "      <th></th>\n",
       "      <th></th>\n",
       "      <th></th>\n",
       "      <th></th>\n",
       "      <th></th>\n",
       "      <th></th>\n",
       "    </tr>\n",
       "  </thead>\n",
       "  <tbody>\n",
       "    <tr>\n",
       "      <th>test</th>\n",
       "      <td>20000.0</td>\n",
       "      <td>0.681459</td>\n",
       "      <td>0.039648</td>\n",
       "      <td>0.566</td>\n",
       "      <td>0.666</td>\n",
       "      <td>0.683</td>\n",
       "      <td>0.713</td>\n",
       "      <td>0.748</td>\n",
       "    </tr>\n",
       "    <tr>\n",
       "      <th>training</th>\n",
       "      <td>2903150.0</td>\n",
       "      <td>0.663592</td>\n",
       "      <td>0.023463</td>\n",
       "      <td>0.549</td>\n",
       "      <td>0.651</td>\n",
       "      <td>0.666</td>\n",
       "      <td>0.680</td>\n",
       "      <td>0.726</td>\n",
       "    </tr>\n",
       "    <tr>\n",
       "      <th>validation</th>\n",
       "      <td>1000000.0</td>\n",
       "      <td>0.674720</td>\n",
       "      <td>0.025720</td>\n",
       "      <td>0.549</td>\n",
       "      <td>0.660</td>\n",
       "      <td>0.677</td>\n",
       "      <td>0.690</td>\n",
       "      <td>0.737</td>\n",
       "    </tr>\n",
       "  </tbody>\n",
       "</table>\n",
       "</div>"
      ],
      "text/plain": [
       "                count      mean       std    min    25%    50%    75%    max\n",
       "split                                                                       \n",
       "test          20000.0  0.681459  0.039648  0.566  0.666  0.683  0.713  0.748\n",
       "training    2903150.0  0.663592  0.023463  0.549  0.651  0.666  0.680  0.726\n",
       "validation  1000000.0  0.674720  0.025720  0.549  0.660  0.677  0.690  0.737"
      ]
     },
     "execution_count": 112,
     "metadata": {},
     "output_type": "execute_result"
    }
   ],
   "source": [
    "split_group = exp_1_c_50_epochs.groupby('split')\n",
    "split_group.accuracy.describe()"
   ]
  },
  {
   "cell_type": "markdown",
   "metadata": {},
   "source": [
    "Mejora un punto de accuracy en test"
   ]
  },
  {
   "cell_type": "code",
   "execution_count": 119,
   "metadata": {},
   "outputs": [
    {
     "name": "stderr",
     "output_type": "stream",
     "text": [
      "/home/ekokic/miniconda3/envs/thesis-tf-gpu/lib/python3.5/site-packages/scipy/stats/stats.py:1713: FutureWarning: Using a non-tuple sequence for multidimensional indexing is deprecated; use `arr[tuple(seq)]` instead of `arr[seq]`. In the future this will be interpreted as an array index, `arr[np.array(seq)]`, which will result either in an error or a different result.\n",
      "  return np.add.reduce(sorted[indexer] * weights, axis=axis) / sumval\n"
     ]
    },
    {
     "data": {
      "text/plain": [
       "[]"
      ]
     },
     "execution_count": 119,
     "metadata": {},
     "output_type": "execute_result"
    },
    {
     "data": {
      "image/png": "[encoded data removed]",
      "text/plain": [
       "<Figure size 432x288 with 1 Axes>"
      ]
     },
     "metadata": {},
     "output_type": "display_data"
    }
   ],
   "source": [
    "sns.set_style('darkgrid')\n",
    "train_val_df = exp_1_c_50_epochs[exp_1_c_50_epochs.split.isin(['training', 'validation'])]\n",
    "ax_acc = sns.lineplot(x='epoch', y='accuracy', hue='split', data=train_val_df)\n",
    "ax_acc.set_title('Training and Validation accuracy')\n",
    "ax_acc.plot()"
   ]
  },
  {
   "cell_type": "markdown",
   "metadata": {},
   "source": [
    "### Conclusiones Experimento 1:\n",
    "\n",
    "- Tomando un 75% de los datos de entrenamiento como anotados se obtienen los mejores resultados.\n",
    "- Si bien no se obtiene una accuracy alta, se aprecia la gran capacidad de generalización que posee el modelo."
   ]
  },
  {
   "cell_type": "code",
   "execution_count": null,
   "metadata": {},
   "outputs": [],
   "source": []
  },
  {
   "cell_type": "markdown",
   "metadata": {},
   "source": [
    "# Experimento 2\n",
    "\n",
    "- Se utiliza el mejor caso del experimento 1: 75% de datos de training anotados.\n",
    "- Se toma a su vez una proporción disjunta de datos no anotados sumada a los 100k utilizados en el experimento 1. Cantidad elegida: 200k datos disjuntos no anotados.\n",
    "- Verificar si mejora validation agregando mas datos no anotados (i.e. si el modelo generaliza aún más).\n",
    "\n",
    "Datos:\n",
    "\n",
    "300000 -> training (100k del experimento 1 + 200k nuevos) \n",
    "\n",
    "Se utilizan 75% de los primeros 100k como datos anotados (#datos anotados = 75k)\n",
    "\n",
    "&nbsp; 20000 -> validation\n",
    " \n",
    "&nbsp; 20000 -> test"
   ]
  },
  {
   "cell_type": "code",
   "execution_count": null,
   "metadata": {},
   "outputs": [],
   "source": []
  },
  {
   "cell_type": "code",
   "execution_count": null,
   "metadata": {},
   "outputs": [],
   "source": []
  },
  {
   "cell_type": "code",
   "execution_count": null,
   "metadata": {},
   "outputs": [],
   "source": []
  },
  {
   "cell_type": "code",
   "execution_count": null,
   "metadata": {},
   "outputs": [],
   "source": []
  },
  {
   "cell_type": "code",
   "execution_count": null,
   "metadata": {},
   "outputs": [],
   "source": []
  },
  {
   "cell_type": "markdown",
   "metadata": {},
   "source": [
    "# Experimento 3\n",
    "\n",
    "- Se utiliza el mejor caso del experimento 1: 75% de los 100k de datos de training anotados.\n",
    "- Todos los datos no anotados deben ser disjuntos a los datos anotados, es decir, no se deben utilizar los datos anotados como no anotados.\n",
    "- Cantidad elegida: 200k datos disjuntos no anotados.\n",
    "\n",
    "Datos:\n",
    "\n",
    "275000 -> training (75k anotados del experimento 1 + 200k nuevos no anotados) \n",
    "\n",
    "&nbsp; 20000 -> validation\n",
    " \n",
    "&nbsp; 20000 -> test"
   ]
  },
  {
   "cell_type": "code",
   "execution_count": null,
   "metadata": {},
   "outputs": [],
   "source": []
  }
 ],
 "metadata": {
  "kernelspec": {
   "display_name": "Python 3",
   "language": "python",
   "name": "python3"
  },
  "language_info": {
   "codemirror_mode": {
    "name": "ipython",
    "version": 3
   },
   "file_extension": ".py",
   "mimetype": "text/x-python",
   "name": "python",
   "nbconvert_exporter": "python",
   "pygments_lexer": "ipython3",
   "version": "3.5.6"
  }
 },
 "nbformat": 4,
 "nbformat_minor": 2
}
