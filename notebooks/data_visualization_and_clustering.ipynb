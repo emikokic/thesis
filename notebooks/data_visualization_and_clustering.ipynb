{
 "cells": [
  {
   "cell_type": "code",
   "execution_count": 9,
   "metadata": {},
   "outputs": [],
   "source": [
    "import numpy as np\n",
    "import pandas as pd\n",
    "import matplotlib.pyplot as plt\n",
    "import seaborn as sns\n",
    "from sklearn.decomposition import PCA\n",
    "sns.set_style('whitegrid')"
   ]
  },
  {
   "cell_type": "markdown",
   "metadata": {},
   "source": [
    "### Cargamos los datos"
   ]
  },
  {
   "cell_type": "code",
   "execution_count": null,
   "metadata": {},
   "outputs": [],
   "source": [
    "word_vectors = np.load('../corpus_WiNER/word_vectors/wv_train_exp_decay_W_5.npz')\n",
    "entity_vector = np.load('../corpus_WiNER/entity_vectors/ev_train_exp_decay_W_5.npz')\n",
    "X_train = word_vectors.items()[0][1][:100000]\n",
    "y_train = entity_vector.items()[0][1][:100000]\n",
    "word_vectors = np.load('../corpus_WiNER/word_vectors/wv_dev_exp_decay_W_5.npz')\n",
    "entity_vector = np.load('../corpus_WiNER/entity_vectors/ev_dev_exp_decay_W_5.npz')\n",
    "X_dev = word_vectors.items()[0][1][:20000]\n",
    "y_dev = entity_vector.items()[0][1][:20000]\n",
    "word_vectors = np.load('../corpus_WiNER/word_vectors/wv_test_exp_decay_W_5.npz')\n",
    "entity_vector = np.load('../corpus_WiNER/entity_vectors/ev_test_exp_decay_W_5.npz')\n",
    "X_test = word_vectors.items()[0][1][:20000]\n",
    "y_test = entity_vector.items()[0][1][:20000]"
   ]
  },
  {
   "cell_type": "code",
   "execution_count": 2,
   "metadata": {},
   "outputs": [],
   "source": [
    "X_train = np.array([[1.0,2.0,3.0,4.0,5.0], [111.0,222.0,333.0,444.0,555.0], [11.0,22.0,33.0,44.0,55.0]])\n",
    "y_train = np.array(['class1', 'class2', 'class3'])"
   ]
  },
  {
   "cell_type": "code",
   "execution_count": 10,
   "metadata": {},
   "outputs": [
    {
     "data": {
      "text/plain": [
       "(3, 5)"
      ]
     },
     "execution_count": 10,
     "metadata": {},
     "output_type": "execute_result"
    }
   ],
   "source": [
    "X_train.shape"
   ]
  },
  {
   "cell_type": "markdown",
   "metadata": {},
   "source": [
    "### Aplicamos PCA"
   ]
  },
  {
   "cell_type": "code",
   "execution_count": 18,
   "metadata": {
    "scrolled": true
   },
   "outputs": [
    {
     "data": {
      "text/html": [
       "<div>\n",
       "<style scoped>\n",
       "    .dataframe tbody tr th:only-of-type {\n",
       "        vertical-align: middle;\n",
       "    }\n",
       "\n",
       "    .dataframe tbody tr th {\n",
       "        vertical-align: top;\n",
       "    }\n",
       "\n",
       "    .dataframe thead th {\n",
       "        text-align: right;\n",
       "    }\n",
       "</style>\n",
       "<table border=\"1\" class=\"dataframe\">\n",
       "  <thead>\n",
       "    <tr style=\"text-align: right;\">\n",
       "      <th></th>\n",
       "      <th>PCA_1</th>\n",
       "      <th>PCA_2</th>\n",
       "      <th>TARGET</th>\n",
       "    </tr>\n",
       "  </thead>\n",
       "  <tbody>\n",
       "    <tr>\n",
       "      <th>0</th>\n",
       "      <td>-296.647939</td>\n",
       "      <td>6.125037e-14</td>\n",
       "      <td>class1</td>\n",
       "    </tr>\n",
       "    <tr>\n",
       "      <th>1</th>\n",
       "      <td>519.133894</td>\n",
       "      <td>2.612148e-14</td>\n",
       "      <td>class2</td>\n",
       "    </tr>\n",
       "    <tr>\n",
       "      <th>2</th>\n",
       "      <td>-222.485955</td>\n",
       "      <td>-2.071704e-14</td>\n",
       "      <td>class3</td>\n",
       "    </tr>\n",
       "  </tbody>\n",
       "</table>\n",
       "</div>"
      ],
      "text/plain": [
       "        PCA_1         PCA_2  TARGET\n",
       "0 -296.647939  6.125037e-14  class1\n",
       "1  519.133894  2.612148e-14  class2\n",
       "2 -222.485955 -2.071704e-14  class3"
      ]
     },
     "execution_count": 18,
     "metadata": {},
     "output_type": "execute_result"
    }
   ],
   "source": [
    "# Reducir dimensionalidad y graficar\n",
    "pca = PCA(n_components=2)\n",
    "pca_ft = pca.fit_transform(X_train)\n",
    "pca_df = pd.DataFrame(data=pca_ft, columns=['PCA_1', 'PCA_2'])\n",
    "pca_df = pd.concat([pca_df, pd.Series(y_train, name='entityType')], axis=1)\n",
    "pca_df.head()"
   ]
  },
  {
   "cell_type": "markdown",
   "metadata": {},
   "source": [
    "### Graficamos"
   ]
  },
  {
   "cell_type": "code",
   "execution_count": 20,
   "metadata": {},
   "outputs": [
    {
     "data": {
      "image/png": "[encoded data removed]",
      "text/plain": [
       "<Figure size 432x288 with 1 Axes>"
      ]
     },
     "metadata": {},
     "output_type": "display_data"
    }
   ],
   "source": [
    "ax = sns.scatterplot(x=\"PCA_1\", y=\"PCA_2\", hue=\"entityType\", data=pca_df)"
   ]
  },
  {
   "cell_type": "markdown",
   "metadata": {},
   "source": [
    "### Apliquemos Clustering"
   ]
  },
  {
   "cell_type": "markdown",
   "metadata": {},
   "source": [
    "Utilicemos KMeans de NLTK"
   ]
  },
  {
   "cell_type": "code",
   "execution_count": 29,
   "metadata": {},
   "outputs": [],
   "source": [
    "NUM_CLUSTERS = 5 # PER - LOC - ORG - MISC - O\n",
    "kclusterer = KMeansClusterer(NUM_CLUSTERS, distance=nltk.cluster.util.cosine_distance)\n",
    "assigned_clusters = kclusterer.cluster(X_train, assign_clusters=True)"
   ]
  },
  {
   "cell_type": "code",
   "execution_count": 30,
   "metadata": {},
   "outputs": [
    {
     "name": "stdout",
     "output_type": "stream",
     "text": [
      "El cluster 0 tiene 15649 elementos\n",
      "El cluster 1 tiene 1482 elementos\n",
      "El cluster 2 tiene 14900 elementos\n",
      "El cluster 3 tiene 7969 elementos\n"
     ]
    },
    {
     "data": {
      "text/plain": [
       "40000"
      ]
     },
     "execution_count": 30,
     "metadata": {},
     "output_type": "execute_result"
    }
   ],
   "source": [
    "for i in range(NUM_CLUSTERS):\n",
    "    print ('El cluster %i tiene %i elementos' % (i, assigned_clusters.count(i)))\n",
    "len(assigned_clusters)"
   ]
  },
  {
   "cell_type": "code",
   "execution_count": 31,
   "metadata": {},
   "outputs": [
    {
     "name": "stdout",
     "output_type": "stream",
     "text": [
      "          title\n",
      "category       \n",
      "b          3058\n",
      "e          4454\n",
      "m          3099\n",
      "t          5038\n",
      "          title\n",
      "category       \n",
      "b          1239\n",
      "e           133\n",
      "m            75\n",
      "t            35\n",
      "          title\n",
      "category       \n",
      "b          4392\n",
      "e          2102\n",
      "m          5377\n",
      "t          3029\n",
      "          title\n",
      "category       \n",
      "b          1311\n",
      "e          3311\n",
      "m          1449\n",
      "t          1898\n"
     ]
    }
   ],
   "source": [
    "words_df = {\n",
    "        'word': X_train,\n",
    "        'entityType': y_train,\n",
    "        'cluster': assigned_clusters\n",
    "}\n",
    "words_df = pd.DataFrame(\n",
    "        news,\n",
    "        index=[assigned_clusters],\n",
    "        columns = ['word', 'entityType']\n",
    ")\n",
    "print(words_df.loc[0].groupby('entityType').count())\n",
    "print(words_df.loc[1].groupby('entityType').count())\n",
    "print(words_df.loc[2].groupby('entityType').count())\n",
    "print(words_df.loc[3].groupby('entityType').count())"
   ]
  },
  {
   "cell_type": "code",
   "execution_count": null,
   "metadata": {},
   "outputs": [],
   "source": []
  },
  {
   "cell_type": "code",
   "execution_count": null,
   "metadata": {},
   "outputs": [],
   "source": []
  }
 ],
 "metadata": {
  "kernelspec": {
   "display_name": "Python 3",
   "language": "python",
   "name": "python3"
  },
  "language_info": {
   "codemirror_mode": {
    "name": "ipython",
    "version": 3
   },
   "file_extension": ".py",
   "mimetype": "text/x-python",
   "name": "python",
   "nbconvert_exporter": "python",
   "pygments_lexer": "ipython3",
   "version": "3.6.7"
  }
 },
 "nbformat": 4,
 "nbformat_minor": 2
}
