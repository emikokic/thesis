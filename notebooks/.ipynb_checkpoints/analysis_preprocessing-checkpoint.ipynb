{
 "cells": [
  {
   "cell_type": "markdown",
   "metadata": {},
   "source": [
    "# Análisis y preprocesamiento de los datos"
   ]
  },
  {
   "cell_type": "markdown",
   "metadata": {},
   "source": [
    "Se explorarán, en pequeños experimentos, distintas formas de representación de los datos del corpus WiNER (Ghaddar y Langlais 2017) para utilizarlos en la tarea de reconocimiento de entidades nombradas. Para esto se exploran distintas combinaciones de vectores de palabras como representación de una instancia de entrenamiento (Iacobacci et al. 2016)."
   ]
  },
  {
   "cell_type": "markdown",
   "metadata": {},
   "source": [
    "## Descripción del Corpus WiNER"
   ]
  },
  {
   "cell_type": "markdown",
   "metadata": {},
   "source": [
    "* Documents.tar.bz2 : este archivo contiene 3239540 artículos de Wikipedia repartidos en 3223 archivos. Cantidad de oraciones: 54607542. Cada archivo contiene aproximadamente 1000 artículos nombrados por sus respectivos IDs. Los artículos están indexados por su wikiID seguidos de oraciones (una por línea), donde las palabras son remplazadas por sus ids.\n",
    "\n",
    "      ID <number>\n",
    "      1234 4522 23 4 4567\n",
    "      456 21 9890 123 7 0\n",
    "\n",
    "* document.vocab : este archivo contiene el mapeo de palabras (case sensitive); el formato es: \n",
    " \n",
    "      palabra #ocurrencias\n",
    "    \n",
    "  El ID de cada palabra es el número de línea en la cual ocurre."
   ]
  },
  {
   "cell_type": "code",
   "execution_count": 1,
   "metadata": {},
   "outputs": [],
   "source": [
    "import sys\n",
    "sys.path.append('../')\n",
    "from corpus_WiNER.corpus_utils import *\n",
    "\n",
    "import pandas as pd\n",
    "import numpy as np\n",
    "import time\n",
    "from tqdm import tqdm\n",
    "import gensim\n",
    "import os\n",
    "import random\n",
    "import itertools\n",
    "from gensim.models import Word2Vec, KeyedVectors"
   ]
  },
  {
   "cell_type": "markdown",
   "metadata": {},
   "source": [
    "### Cargamos los datos"
   ]
  },
  {
   "cell_type": "code",
   "execution_count": 6,
   "metadata": {},
   "outputs": [],
   "source": [
    "word_mapping = pd.read_csv('../corpus_WiNER/document.vocab', sep=' ', header=None, \n",
    "                           names=['word', 'frequency'], keep_default_na=False) \n",
    "                        # con esto evito que el parser trate como nan value a algunas palabras."
   ]
  },
  {
   "cell_type": "code",
   "execution_count": 7,
   "metadata": {},
   "outputs": [
    {
     "name": "stdout",
     "output_type": "stream",
     "text": [
      "(6931358, 2)\n"
     ]
    },
    {
     "data": {
      "text/html": [
       "<div>\n",
       "<style scoped>\n",
       "    .dataframe tbody tr th:only-of-type {\n",
       "        vertical-align: middle;\n",
       "    }\n",
       "\n",
       "    .dataframe tbody tr th {\n",
       "        vertical-align: top;\n",
       "    }\n",
       "\n",
       "    .dataframe thead th {\n",
       "        text-align: right;\n",
       "    }\n",
       "</style>\n",
       "<table border=\"1\" class=\"dataframe\">\n",
       "  <thead>\n",
       "    <tr style=\"text-align: right;\">\n",
       "      <th></th>\n",
       "      <th>word</th>\n",
       "      <th>frequency</th>\n",
       "    </tr>\n",
       "  </thead>\n",
       "  <tbody>\n",
       "    <tr>\n",
       "      <th>0</th>\n",
       "      <td>the</td>\n",
       "      <td>73411953</td>\n",
       "    </tr>\n",
       "    <tr>\n",
       "      <th>1</th>\n",
       "      <td>,</td>\n",
       "      <td>68044881</td>\n",
       "    </tr>\n",
       "    <tr>\n",
       "      <th>2</th>\n",
       "      <td>.</td>\n",
       "      <td>54241850</td>\n",
       "    </tr>\n",
       "    <tr>\n",
       "      <th>3</th>\n",
       "      <td>of</td>\n",
       "      <td>40550466</td>\n",
       "    </tr>\n",
       "    <tr>\n",
       "      <th>4</th>\n",
       "      <td>and</td>\n",
       "      <td>34602894</td>\n",
       "    </tr>\n",
       "  </tbody>\n",
       "</table>\n",
       "</div>"
      ],
      "text/plain": [
       "  word  frequency\n",
       "0  the   73411953\n",
       "1    ,   68044881\n",
       "2    .   54241850\n",
       "3   of   40550466\n",
       "4  and   34602894"
      ]
     },
     "execution_count": 7,
     "metadata": {},
     "output_type": "execute_result"
    }
   ],
   "source": [
    "print(word_mapping.shape)\n",
    "word_mapping.head()"
   ]
  },
  {
   "cell_type": "code",
   "execution_count": 8,
   "metadata": {},
   "outputs": [
    {
     "data": {
      "text/plain": [
       "6931358"
      ]
     },
     "execution_count": 8,
     "metadata": {},
     "output_type": "execute_result"
    }
   ],
   "source": [
    "len(word_mapping['word'].unique())"
   ]
  },
  {
   "cell_type": "markdown",
   "metadata": {},
   "source": [
    "### Cargamos los artículos del Documento \"0\""
   ]
  },
  {
   "cell_type": "code",
   "execution_count": 10,
   "metadata": {},
   "outputs": [],
   "source": [
    "doc_0 = pd.read_csv('../corpus_WiNER/Documents/0', sep='ID', engine='python', header=None, names=['sentence', 'art_ID'])"
   ]
  },
  {
   "cell_type": "code",
   "execution_count": 11,
   "metadata": {},
   "outputs": [
    {
     "data": {
      "text/plain": [
       "(130209, 2)"
      ]
     },
     "execution_count": 11,
     "metadata": {},
     "output_type": "execute_result"
    }
   ],
   "source": [
    "doc_0.shape"
   ]
  },
  {
   "cell_type": "code",
   "execution_count": 12,
   "metadata": {},
   "outputs": [
    {
     "data": {
      "text/html": [
       "<div>\n",
       "<style scoped>\n",
       "    .dataframe tbody tr th:only-of-type {\n",
       "        vertical-align: middle;\n",
       "    }\n",
       "\n",
       "    .dataframe tbody tr th {\n",
       "        vertical-align: top;\n",
       "    }\n",
       "\n",
       "    .dataframe thead th {\n",
       "        text-align: right;\n",
       "    }\n",
       "</style>\n",
       "<table border=\"1\" class=\"dataframe\">\n",
       "  <thead>\n",
       "    <tr style=\"text-align: right;\">\n",
       "      <th></th>\n",
       "      <th>sentence</th>\n",
       "      <th>art_ID</th>\n",
       "    </tr>\n",
       "  </thead>\n",
       "  <tbody>\n",
       "    <tr>\n",
       "      <th>0</th>\n",
       "      <td>NaN</td>\n",
       "      <td>431388.0</td>\n",
       "    </tr>\n",
       "    <tr>\n",
       "      <th>1</th>\n",
       "      <td>650 5590 753942 12 189 243 1 2039 47 257 682 1...</td>\n",
       "      <td>NaN</td>\n",
       "    </tr>\n",
       "    <tr>\n",
       "      <th>2</th>\n",
       "      <td>34 23207 1523 4 57193 15 10777 14353 4 157019 ...</td>\n",
       "      <td>NaN</td>\n",
       "    </tr>\n",
       "    <tr>\n",
       "      <th>3</th>\n",
       "      <td>418 0 1858 101 0 1322 1 5590 18 860 729 14 92 ...</td>\n",
       "      <td>NaN</td>\n",
       "    </tr>\n",
       "    <tr>\n",
       "      <th>4</th>\n",
       "      <td>650 5590 1523 8 1136 15 11301 575 1156 1 2746 ...</td>\n",
       "      <td>NaN</td>\n",
       "    </tr>\n",
       "  </tbody>\n",
       "</table>\n",
       "</div>"
      ],
      "text/plain": [
       "                                            sentence    art_ID\n",
       "0                                                NaN  431388.0\n",
       "1  650 5590 753942 12 189 243 1 2039 47 257 682 1...       NaN\n",
       "2  34 23207 1523 4 57193 15 10777 14353 4 157019 ...       NaN\n",
       "3  418 0 1858 101 0 1322 1 5590 18 860 729 14 92 ...       NaN\n",
       "4  650 5590 1523 8 1136 15 11301 575 1156 1 2746 ...       NaN"
      ]
     },
     "execution_count": 12,
     "metadata": {},
     "output_type": "execute_result"
    }
   ],
   "source": [
    "doc_0.head()"
   ]
  },
  {
   "cell_type": "markdown",
   "metadata": {},
   "source": [
    "Vamos a asociarle a cada oración el ID del artículo al cual pertenece.\n",
    "\n",
    "Es importante recordar que el orden de las oraciones está dado por los índices del dataframe."
   ]
  },
  {
   "cell_type": "code",
   "execution_count": 13,
   "metadata": {},
   "outputs": [],
   "source": [
    "art_ID_list = doc_0['art_ID'].tolist()\n",
    "art_ID = 0\n",
    "for idx, elem in enumerate(art_ID_list):\n",
    "    if not np.isnan(elem):\n",
    "        art_ID = elem\n",
    "    else:\n",
    "        art_ID_list[idx] = art_ID\n",
    "doc_0['art_ID'] = art_ID_list"
   ]
  },
  {
   "cell_type": "markdown",
   "metadata": {},
   "source": [
    "Removemos ahora las filas con NaN que contenian los ID de los artículos inicialmente."
   ]
  },
  {
   "cell_type": "code",
   "execution_count": 14,
   "metadata": {},
   "outputs": [],
   "source": [
    "doc_0 = doc_0.dropna()"
   ]
  },
  {
   "cell_type": "code",
   "execution_count": 15,
   "metadata": {},
   "outputs": [
    {
     "name": "stdout",
     "output_type": "stream",
     "text": [
      "El documento contiene 128395 oraciones.\n",
      "El documento contiene 1814 artículos\n"
     ]
    }
   ],
   "source": [
    "print('El documento contiene {} oraciones.'.format(doc_0.shape[0]))\n",
    "print('El documento contiene {} artículos'.format(len(doc_0['art_ID'].unique())))"
   ]
  },
  {
   "cell_type": "markdown",
   "metadata": {},
   "source": [
    "Hacemos que cada sentencia sea una lista de palabras codificadas y casteamos a int"
   ]
  },
  {
   "cell_type": "code",
   "execution_count": 16,
   "metadata": {},
   "outputs": [],
   "source": [
    "doc_0['sentence'] = doc_0['sentence'].map(lambda x: list(map(int, x.split(' '))))"
   ]
  },
  {
   "cell_type": "code",
   "execution_count": 17,
   "metadata": {},
   "outputs": [
    {
     "data": {
      "text/html": [
       "<div>\n",
       "<style scoped>\n",
       "    .dataframe tbody tr th:only-of-type {\n",
       "        vertical-align: middle;\n",
       "    }\n",
       "\n",
       "    .dataframe tbody tr th {\n",
       "        vertical-align: top;\n",
       "    }\n",
       "\n",
       "    .dataframe thead th {\n",
       "        text-align: right;\n",
       "    }\n",
       "</style>\n",
       "<table border=\"1\" class=\"dataframe\">\n",
       "  <thead>\n",
       "    <tr style=\"text-align: right;\">\n",
       "      <th></th>\n",
       "      <th>sentence</th>\n",
       "      <th>art_ID</th>\n",
       "    </tr>\n",
       "  </thead>\n",
       "  <tbody>\n",
       "    <tr>\n",
       "      <th>1</th>\n",
       "      <td>[650, 5590, 753942, 12, 189, 243, 1, 2039, 47,...</td>\n",
       "      <td>431388.0</td>\n",
       "    </tr>\n",
       "    <tr>\n",
       "      <th>2</th>\n",
       "      <td>[34, 23207, 1523, 4, 57193, 15, 10777, 14353, ...</td>\n",
       "      <td>431388.0</td>\n",
       "    </tr>\n",
       "    <tr>\n",
       "      <th>3</th>\n",
       "      <td>[418, 0, 1858, 101, 0, 1322, 1, 5590, 18, 860,...</td>\n",
       "      <td>431388.0</td>\n",
       "    </tr>\n",
       "    <tr>\n",
       "      <th>4</th>\n",
       "      <td>[650, 5590, 1523, 8, 1136, 15, 11301, 575, 115...</td>\n",
       "      <td>431388.0</td>\n",
       "    </tr>\n",
       "    <tr>\n",
       "      <th>5</th>\n",
       "      <td>[152, 642, 16, 8143, 23122, 20, 0, 662955, 16,...</td>\n",
       "      <td>431388.0</td>\n",
       "    </tr>\n",
       "  </tbody>\n",
       "</table>\n",
       "</div>"
      ],
      "text/plain": [
       "                                            sentence    art_ID\n",
       "1  [650, 5590, 753942, 12, 189, 243, 1, 2039, 47,...  431388.0\n",
       "2  [34, 23207, 1523, 4, 57193, 15, 10777, 14353, ...  431388.0\n",
       "3  [418, 0, 1858, 101, 0, 1322, 1, 5590, 18, 860,...  431388.0\n",
       "4  [650, 5590, 1523, 8, 1136, 15, 11301, 575, 115...  431388.0\n",
       "5  [152, 642, 16, 8143, 23122, 20, 0, 662955, 16,...  431388.0"
      ]
     },
     "execution_count": 17,
     "metadata": {},
     "output_type": "execute_result"
    }
   ],
   "source": [
    "doc_0.head()"
   ]
  },
  {
   "cell_type": "markdown",
   "metadata": {},
   "source": [
    "Nos quedamos con un artículo"
   ]
  },
  {
   "cell_type": "code",
   "execution_count": 18,
   "metadata": {},
   "outputs": [
    {
     "data": {
      "text/html": [
       "<div>\n",
       "<style scoped>\n",
       "    .dataframe tbody tr th:only-of-type {\n",
       "        vertical-align: middle;\n",
       "    }\n",
       "\n",
       "    .dataframe tbody tr th {\n",
       "        vertical-align: top;\n",
       "    }\n",
       "\n",
       "    .dataframe thead th {\n",
       "        text-align: right;\n",
       "    }\n",
       "</style>\n",
       "<table border=\"1\" class=\"dataframe\">\n",
       "  <thead>\n",
       "    <tr style=\"text-align: right;\">\n",
       "      <th></th>\n",
       "      <th>sentence</th>\n",
       "      <th>art_ID</th>\n",
       "    </tr>\n",
       "  </thead>\n",
       "  <tbody>\n",
       "    <tr>\n",
       "      <th>2756</th>\n",
       "      <td>[63903, 24730, 9, 7, 3035, 4104, 7584, 1, 355,...</td>\n",
       "      <td>1000.0</td>\n",
       "    </tr>\n",
       "    <tr>\n",
       "      <th>2757</th>\n",
       "      <td>[3654, 16, 2502, 39413, 1, 24730, 9, 44, 3, 99...</td>\n",
       "      <td>1000.0</td>\n",
       "    </tr>\n",
       "    <tr>\n",
       "      <th>2758</th>\n",
       "      <td>[24730, 35, 49, 3521, 15, 575, 1, 15, 2440, 1,...</td>\n",
       "      <td>1000.0</td>\n",
       "    </tr>\n",
       "    <tr>\n",
       "      <th>2759</th>\n",
       "      <td>[152, 112, 8, 2037, 20, 52, 54, 3035, 17572, 3...</td>\n",
       "      <td>1000.0</td>\n",
       "    </tr>\n",
       "    <tr>\n",
       "      <th>2760</th>\n",
       "      <td>[64, 62, 5787, 1132, 15, 0, 144, 24730, 1312, ...</td>\n",
       "      <td>1000.0</td>\n",
       "    </tr>\n",
       "  </tbody>\n",
       "</table>\n",
       "</div>"
      ],
      "text/plain": [
       "                                               sentence  art_ID\n",
       "2756  [63903, 24730, 9, 7, 3035, 4104, 7584, 1, 355,...  1000.0\n",
       "2757  [3654, 16, 2502, 39413, 1, 24730, 9, 44, 3, 99...  1000.0\n",
       "2758  [24730, 35, 49, 3521, 15, 575, 1, 15, 2440, 1,...  1000.0\n",
       "2759  [152, 112, 8, 2037, 20, 52, 54, 3035, 17572, 3...  1000.0\n",
       "2760  [64, 62, 5787, 1132, 15, 0, 144, 24730, 1312, ...  1000.0"
      ]
     },
     "execution_count": 18,
     "metadata": {},
     "output_type": "execute_result"
    }
   ],
   "source": [
    "article = doc_0[doc_0.art_ID == 1000]\n",
    "article.head()"
   ]
  },
  {
   "cell_type": "markdown",
   "metadata": {},
   "source": [
    "Reconstruimos la primera oración del artículo"
   ]
  },
  {
   "cell_type": "code",
   "execution_count": 19,
   "metadata": {},
   "outputs": [],
   "source": [
    "def sentence_decoder(sentence, word_mapping):\n",
    "    dec_sentence = []\n",
    "    for idx in sentence:\n",
    "        mapped_w = word_mapping.loc[idx, 'word']\n",
    "        dec_sentence.append(mapped_w)\n",
    "    return dec_sentence "
   ]
  },
  {
   "cell_type": "code",
   "execution_count": 20,
   "metadata": {},
   "outputs": [],
   "source": [
    "# Escribimos article.columns.get_loc('sentence') para evitar hardcodear el índice correspondiente\n",
    "# a la columna 'sentence' que en este caso es 0\n",
    "sentence = article.iloc[0, article.columns.get_loc('sentence')]"
   ]
  },
  {
   "cell_type": "code",
   "execution_count": 21,
   "metadata": {},
   "outputs": [
    {
     "data": {
      "text/plain": [
       "'Hercule Poirot is a fictional Belgian detective , created by Agatha Christie .'"
      ]
     },
     "execution_count": 21,
     "metadata": {},
     "output_type": "execute_result"
    }
   ],
   "source": [
    "dec_sentence = sentence_decoder(sentence, word_mapping)\n",
    "' '.join(dec_sentence)"
   ]
  },
  {
   "cell_type": "markdown",
   "metadata": {},
   "source": [
    "### Word embeddings utilizando el modelo pre-entrenado word2vec de Google"
   ]
  },
  {
   "cell_type": "markdown",
   "metadata": {},
   "source": [
    "Utilizaremos la librería Gensim https://radimrehurek.com/gensim/"
   ]
  },
  {
   "cell_type": "markdown",
   "metadata": {},
   "source": [
    "Cargamos Google's pre-trained Word2Vec model.\n",
    "\n",
    "Utilizando KeyedVectors para cargar el modelo tiene la desventaja de que no se puede seguir entrenando. Pero es más eficiente que utilizar gensim.models.Word2Vec\n",
    "https://radimrehurek.com/gensim/models/keyedvectors.html#module-gensim.models.keyedvectors"
   ]
  },
  {
   "cell_type": "code",
   "execution_count": 22,
   "metadata": {},
   "outputs": [
    {
     "name": "stdout",
     "output_type": "stream",
     "text": [
      "demora: 23.044600248336792\n"
     ]
    }
   ],
   "source": [
    "start = time.time()\n",
    "# model = KeyedVectors.load_word2vec_format('./models/GoogleNews-vectors-negative300.bin', binary=True)\n",
    "# model.save('./models/word2vecGoogle.model')\n",
    "w2v_model = KeyedVectors.load('../models/google/word2vecGoogle.model')\n",
    "end = time.time()\n",
    "print('demora: {}'.format(end-start))\n",
    "# model = Word2Vec.load_word2vec_format('./models/GoogleNews-vectors-negative300.bin', binary=True)"
   ]
  },
  {
   "cell_type": "code",
   "execution_count": 23,
   "metadata": {},
   "outputs": [
    {
     "name": "stdout",
     "output_type": "stream",
     "text": [
      "Cantidad de word embeddings: 3000000\n"
     ]
    }
   ],
   "source": [
    "print('Cantidad de word embeddings: {}'.format(len(w2v_model.vectors)))"
   ]
  },
  {
   "cell_type": "code",
   "execution_count": 24,
   "metadata": {},
   "outputs": [
    {
     "name": "stdout",
     "output_type": "stream",
     "text": [
      "Dimensionalidad de los vectores: 300\n"
     ]
    }
   ],
   "source": [
    "print('Dimensionalidad de los vectores: {}'.format(w2v_model.vector_size))"
   ]
  },
  {
   "cell_type": "markdown",
   "metadata": {},
   "source": [
    "## Exploremos distintas combinaciones de vectores de palabras"
   ]
  },
  {
   "cell_type": "markdown",
   "metadata": {},
   "source": [
    "### Concatenación\n",
    "\n",
    "Este método consiste en concatenar los vectores de palabras que rodean una palabra objetivo en un vector más grande, que tiene un tamaño igual a las dimensiones agregadas de todos las proyecciones (embeddings) individuales.\n",
    "\n",
    "- $w_{ij}$ = peso asociado con la i-ésima dimensión del vector de la j-ésima palabra en la oración. NOTA: con los vectores de palabras de una oración se forma una matriz $w^{\\space D\\space x\\space L}$ donde $L$ es la cantidad de palabras de esa oración.\n",
    "- $D$ = dimensionalidad de los word vectors originales. Por ejemplo, al usar el modelo word2vec de Google se tiene $D$ = 300.\n",
    "- $W$ = tamaño de ventana que se define como el número de palabras en un solo lado.\n",
    "\n",
    "Nos interesa representar el contexto de la I-ésima palabra de la oración. \n",
    "\n",
    "La i-ésima dimensión del vector de concatenación, que tiene un tamaño de $2 W D$, se calcula de la siguiente manera:\n",
    "\n",
    "$$ e_{i} =\\begin{cases} \n",
    "      w_{i\\space mod \\space D,\\space\\space I \\space - \\space W \\space + \\space \\left\\lfloor{\\frac{i}{D}}\\right\\rfloor} & \\left\\lfloor{\\frac{i}{D}}\\right\\rfloor < W \\\\\n",
    "      w_{i\\space mod \\space D,\\space\\space I \\space - \\space W \\space + \\space 1\\space  +\\space\\left\\lfloor{\\frac{i}{D}}\\right\\rfloor} & c.c.\n",
    "   \\end{cases}$$\n",
    "   \n",
    "\n",
    "<br>\n",
    "Al tomar una ventana simétrica, se realiza un relleno (padding) con ceros a izquierda y/o derecha según corresponda para mantener la misma dimesionalidad en cada nuevo vector generado."
   ]
  },
  {
   "cell_type": "markdown",
   "metadata": {},
   "source": [
    "### Promedio\n",
    "\n",
    "Como su nombre indica, se calcula el centroide de los embeddings de todas las palabras circundantes. La fórmula divide cada dimensión en $2W$ ya que el número de palabras del contexto es dos veces el tamaño de la ventana:\n",
    "\n",
    "$$e_{i} =\\sum_{\\substack{j\\space=\\space I-W \\\\ j\\space\\neq\\space I}}^{I + W} \\frac{w_{ij}}{2W}$$"
   ]
  },
  {
   "cell_type": "markdown",
   "metadata": {},
   "source": [
    "### Decaimiento fraccional\n",
    "\n",
    "Una tercera estrategia para construir un vector de carácteristicas en base a los embeddings de palabras contextuales está inspirada en la forma en que Word2vec combina las palabras en el contexto. Aquí, se supone que la importancia de una palabra para nuestra representación es inversamente proporcional a su distancia respecto a la palabra objetivo.\n",
    "\n",
    "Por lo tanto, las palabras contextuales se ponderan en función de su distancia de la palabra objetivo:\n",
    "\n",
    "$$e_{i} =\\sum_{\\substack{j\\space=\\space I-W \\\\ j\\space\\neq\\space I}}^{I + W} w_{ij} *\\frac{W - \\lvert I-j\\rvert}{W}$$\n"
   ]
  },
  {
   "cell_type": "markdown",
   "metadata": {},
   "source": [
    "### Decaimiento exponencial\n",
    "\n",
    "Funciona de manera similar al decaimiento fraccional, que le da más importancia al contexto cercano, pero en este caso la ponderación se realiza exponencialmente:\n",
    "\n",
    "$$e_{i} =\\sum_{\\substack{j\\space=\\space I-W \\\\ j\\space\\neq\\space I}}^{I + W} w_{ij} * (1 - \\alpha)^{\\lvert \\space I\\space-\\space j\\space\\rvert\\space-\\space1}$$\n",
    "\n",
    "donde $\\alpha = 1 - 0.1^{(W-1)^{-1}}$ es el parámetro de decaimiento. Elegimos el parámetro de tal manera que las palabras inmediatas que rodean a la palabra objetivo contribuyen 10 veces más que las últimas palabras en ambos lados de la ventana."
   ]
  },
  {
   "cell_type": "markdown",
   "metadata": {},
   "source": [
    "## Exploremos CoarseNE.tar.bz2\n",
    "\n",
    "Contiene menciones anotadas automáticamente con etiquetas de entidades nombradas (PER, LOC, ORG y MISC).\n",
    "\n",
    "El formato es:\n",
    "\n",
    "    ID artID\n",
    "    sentIdx begin end entityType\n",
    "    \n",
    "donde entityType[0] = PER | entityType[1] = LOC | entityType[2] = ORG | entityType[3] = MISC"
   ]
  },
  {
   "cell_type": "code",
   "execution_count": 27,
   "metadata": {},
   "outputs": [],
   "source": [
    "coarseNE_0 = pd.read_csv('../corpus_WiNER/CoarseNE/0', sep='ID', engine='python', header=None, names=['named-entity', 'art_ID'])"
   ]
  },
  {
   "cell_type": "code",
   "execution_count": 28,
   "metadata": {},
   "outputs": [
    {
     "name": "stdout",
     "output_type": "stream",
     "text": [
      "(259470, 2)\n"
     ]
    },
    {
     "data": {
      "text/html": [
       "<div>\n",
       "<style scoped>\n",
       "    .dataframe tbody tr th:only-of-type {\n",
       "        vertical-align: middle;\n",
       "    }\n",
       "\n",
       "    .dataframe tbody tr th {\n",
       "        vertical-align: top;\n",
       "    }\n",
       "\n",
       "    .dataframe thead th {\n",
       "        text-align: right;\n",
       "    }\n",
       "</style>\n",
       "<table border=\"1\" class=\"dataframe\">\n",
       "  <thead>\n",
       "    <tr style=\"text-align: right;\">\n",
       "      <th></th>\n",
       "      <th>named-entity</th>\n",
       "      <th>art_ID</th>\n",
       "    </tr>\n",
       "  </thead>\n",
       "  <tbody>\n",
       "    <tr>\n",
       "      <th>0</th>\n",
       "      <td>NaN</td>\n",
       "      <td>1000.0</td>\n",
       "    </tr>\n",
       "    <tr>\n",
       "      <th>1</th>\n",
       "      <td>0\\t0\\t2\\t0</td>\n",
       "      <td>NaN</td>\n",
       "    </tr>\n",
       "    <tr>\n",
       "      <th>2</th>\n",
       "      <td>0\\t5\\t6\\t1</td>\n",
       "      <td>NaN</td>\n",
       "    </tr>\n",
       "    <tr>\n",
       "      <th>3</th>\n",
       "      <td>0\\t10\\t12\\t0</td>\n",
       "      <td>NaN</td>\n",
       "    </tr>\n",
       "    <tr>\n",
       "      <th>4</th>\n",
       "      <td>1\\t2\\t4\\t0</td>\n",
       "      <td>NaN</td>\n",
       "    </tr>\n",
       "  </tbody>\n",
       "</table>\n",
       "</div>"
      ],
      "text/plain": [
       "   named-entity  art_ID\n",
       "0           NaN  1000.0\n",
       "1    0\\t0\\t2\\t0     NaN\n",
       "2    0\\t5\\t6\\t1     NaN\n",
       "3  0\\t10\\t12\\t0     NaN\n",
       "4    1\\t2\\t4\\t0     NaN"
      ]
     },
     "execution_count": 28,
     "metadata": {},
     "output_type": "execute_result"
    }
   ],
   "source": [
    "print(coarseNE_0.shape)\n",
    "coarseNE_0.head()"
   ]
  },
  {
   "cell_type": "markdown",
   "metadata": {},
   "source": [
    "Aplicamos el mismo truco que utilizamos en los documentos para propagar los art_ID según corresponda"
   ]
  },
  {
   "cell_type": "code",
   "execution_count": 29,
   "metadata": {},
   "outputs": [],
   "source": [
    "coarseNE_0 = spread_artID(coarseNE_0)\n",
    "coarseNE_0 = coarseNE_0.dropna()"
   ]
  },
  {
   "cell_type": "code",
   "execution_count": 30,
   "metadata": {},
   "outputs": [
    {
     "name": "stdout",
     "output_type": "stream",
     "text": [
      "coarseNE_0 contiene 257656 entidades.\n",
      "coarseNE_0 contiene 1810 artículos\n"
     ]
    }
   ],
   "source": [
    "print('coarseNE_0 contiene {} entidades.'.format(coarseNE_0.shape[0]))\n",
    "print('coarseNE_0 contiene {} artículos'.format(len(coarseNE_0['art_ID'].unique())))"
   ]
  },
  {
   "cell_type": "markdown",
   "metadata": {},
   "source": [
    "Creamos nuevas columnas con la info de la columna named-entity para mejor manipulación"
   ]
  },
  {
   "cell_type": "code",
   "execution_count": 31,
   "metadata": {},
   "outputs": [],
   "source": [
    "coarseNE_0['named-entity'] = coarseNE_0['named-entity'].map(lambda x: x.split('\\t'))\n",
    "coarseNE_0['senIdx'] = coarseNE_0['named-entity'].map(lambda x: int(x[0]))\n",
    "coarseNE_0['begin'] = coarseNE_0['named-entity'].map(lambda x: int(x[1]))\n",
    "coarseNE_0['end'] = coarseNE_0['named-entity'].map(lambda x: int(x[2]))\n",
    "coarseNE_0['entityType'] = coarseNE_0['named-entity'].map(lambda x: get_tag(int(x[3])))\n",
    "coarseNE_0 = coarseNE_0.drop(columns='named-entity')"
   ]
  },
  {
   "cell_type": "code",
   "execution_count": 32,
   "metadata": {},
   "outputs": [
    {
     "data": {
      "text/html": [
       "<div>\n",
       "<style scoped>\n",
       "    .dataframe tbody tr th:only-of-type {\n",
       "        vertical-align: middle;\n",
       "    }\n",
       "\n",
       "    .dataframe tbody tr th {\n",
       "        vertical-align: top;\n",
       "    }\n",
       "\n",
       "    .dataframe thead th {\n",
       "        text-align: right;\n",
       "    }\n",
       "</style>\n",
       "<table border=\"1\" class=\"dataframe\">\n",
       "  <thead>\n",
       "    <tr style=\"text-align: right;\">\n",
       "      <th></th>\n",
       "      <th>art_ID</th>\n",
       "      <th>senIdx</th>\n",
       "      <th>begin</th>\n",
       "      <th>end</th>\n",
       "      <th>entityType</th>\n",
       "    </tr>\n",
       "  </thead>\n",
       "  <tbody>\n",
       "    <tr>\n",
       "      <th>1</th>\n",
       "      <td>1000.0</td>\n",
       "      <td>0</td>\n",
       "      <td>0</td>\n",
       "      <td>2</td>\n",
       "      <td>PER</td>\n",
       "    </tr>\n",
       "    <tr>\n",
       "      <th>2</th>\n",
       "      <td>1000.0</td>\n",
       "      <td>0</td>\n",
       "      <td>5</td>\n",
       "      <td>6</td>\n",
       "      <td>LOC</td>\n",
       "    </tr>\n",
       "    <tr>\n",
       "      <th>3</th>\n",
       "      <td>1000.0</td>\n",
       "      <td>0</td>\n",
       "      <td>10</td>\n",
       "      <td>12</td>\n",
       "      <td>PER</td>\n",
       "    </tr>\n",
       "    <tr>\n",
       "      <th>4</th>\n",
       "      <td>1000.0</td>\n",
       "      <td>1</td>\n",
       "      <td>2</td>\n",
       "      <td>4</td>\n",
       "      <td>PER</td>\n",
       "    </tr>\n",
       "    <tr>\n",
       "      <th>5</th>\n",
       "      <td>1000.0</td>\n",
       "      <td>1</td>\n",
       "      <td>5</td>\n",
       "      <td>6</td>\n",
       "      <td>PER</td>\n",
       "    </tr>\n",
       "  </tbody>\n",
       "</table>\n",
       "</div>"
      ],
      "text/plain": [
       "   art_ID  senIdx  begin  end entityType\n",
       "1  1000.0       0      0    2        PER\n",
       "2  1000.0       0      5    6        LOC\n",
       "3  1000.0       0     10   12        PER\n",
       "4  1000.0       1      2    4        PER\n",
       "5  1000.0       1      5    6        PER"
      ]
     },
     "execution_count": 32,
     "metadata": {},
     "output_type": "execute_result"
    }
   ],
   "source": [
    "coarseNE_0.head()"
   ]
  },
  {
   "cell_type": "markdown",
   "metadata": {},
   "source": [
    "No todos los artículos que ocurren en Documents/0 se encuentran en CoarseNE/0\n",
    "\n",
    "Notar que esto sucede porque esos artículos no contienen entidades nombradas."
   ]
  },
  {
   "cell_type": "code",
   "execution_count": 33,
   "metadata": {},
   "outputs": [
    {
     "name": "stdout",
     "output_type": "stream",
     "text": [
      "Artículos que están presentes en Documents/0 pero no en CoarseNE/0: [431177.0, 432375.0, 432318.0, 10263.0]\n"
     ]
    }
   ],
   "source": [
    "print('Artículos que están presentes en Documents/0 pero no en CoarseNE/0: {}'\n",
    "      .format(list(set(doc_0.art_ID.unique()) - set(coarseNE_0.art_ID.unique()))))"
   ]
  },
  {
   "cell_type": "code",
   "execution_count": 34,
   "metadata": {},
   "outputs": [
    {
     "name": "stdout",
     "output_type": "stream",
     "text": [
      "In economics , economics of location is a strategy used by firms in a monopolistic competition environment .\n",
      "Unlike a product differentiation strategy , where firms make their products different in order to attract customers , the economics of location strategy causes firms to produce similar or identical products .\n"
     ]
    }
   ],
   "source": [
    "article = doc_0[doc_0.art_ID == 431177]\n",
    "for sentence in article.sentence.values:\n",
    "    dec_sentence = sentence_decoder(sentence, word_mapping)\n",
    "    print(' '.join(dec_sentence))"
   ]
  },
  {
   "cell_type": "markdown",
   "metadata": {},
   "source": [
    "### Veamos como están anotadas las entidades nombradas de una oración en particular "
   ]
  },
  {
   "cell_type": "code",
   "execution_count": 35,
   "metadata": {},
   "outputs": [
    {
     "data": {
      "text/plain": [
       "'Hercule Poirot is a fictional Belgian detective , created by Agatha Christie .'"
      ]
     },
     "execution_count": 35,
     "metadata": {},
     "output_type": "execute_result"
    }
   ],
   "source": [
    "article = doc_0[doc_0.art_ID == 1000]\n",
    "sentence = article.iloc[0, article.columns.get_loc('sentence')]\n",
    "dec_sentence = sentence_decoder(sentence, word_mapping)\n",
    "' '.join(dec_sentence)"
   ]
  },
  {
   "cell_type": "code",
   "execution_count": 36,
   "metadata": {},
   "outputs": [],
   "source": [
    "art_entities = coarseNE_0[coarseNE_0.art_ID == 1000]\n",
    "entities_sen_0 = art_entities[art_entities.senIdx == 0]"
   ]
  },
  {
   "cell_type": "code",
   "execution_count": 37,
   "metadata": {},
   "outputs": [
    {
     "name": "stdout",
     "output_type": "stream",
     "text": [
      "Hercule Poirot : PER\n",
      "Belgian : LOC\n",
      "Agatha Christie : PER\n"
     ]
    }
   ],
   "source": [
    "for idx, row in entities_sen_0.iterrows():\n",
    "    print('{} : {}'.format(' '.join(dec_sentence[row['begin']:row['end']]), row['entityType']))"
   ]
  },
  {
   "cell_type": "markdown",
   "metadata": {},
   "source": [
    "# Ahora utilicemos los dataframes preprocesados"
   ]
  },
  {
   "cell_type": "code",
   "execution_count": 38,
   "metadata": {},
   "outputs": [
    {
     "data": {
      "text/html": [
       "<div>\n",
       "<style scoped>\n",
       "    .dataframe tbody tr th:only-of-type {\n",
       "        vertical-align: middle;\n",
       "    }\n",
       "\n",
       "    .dataframe tbody tr th {\n",
       "        vertical-align: top;\n",
       "    }\n",
       "\n",
       "    .dataframe thead th {\n",
       "        text-align: right;\n",
       "    }\n",
       "</style>\n",
       "<table border=\"1\" class=\"dataframe\">\n",
       "  <thead>\n",
       "    <tr style=\"text-align: right;\">\n",
       "      <th></th>\n",
       "      <th>sentence</th>\n",
       "      <th>art_ID</th>\n",
       "    </tr>\n",
       "  </thead>\n",
       "  <tbody>\n",
       "    <tr>\n",
       "      <th>1</th>\n",
       "      <td>[Belton, House, is, a, Grade, I, listed, count...</td>\n",
       "      <td>145492.0</td>\n",
       "    </tr>\n",
       "    <tr>\n",
       "      <th>2</th>\n",
       "      <td>[The, mansion, is, surrounded, by, formal, gar...</td>\n",
       "      <td>145492.0</td>\n",
       "    </tr>\n",
       "    <tr>\n",
       "      <th>3</th>\n",
       "      <td>[Belton, has, been, described, as, a, compilat...</td>\n",
       "      <td>145492.0</td>\n",
       "    </tr>\n",
       "    <tr>\n",
       "      <th>4</th>\n",
       "      <td>[The, house, has, also, been, described, as, t...</td>\n",
       "      <td>145492.0</td>\n",
       "    </tr>\n",
       "    <tr>\n",
       "      <th>5</th>\n",
       "      <td>[Only, Brympton, d'Evercy, has, been, similarl...</td>\n",
       "      <td>145492.0</td>\n",
       "    </tr>\n",
       "  </tbody>\n",
       "</table>\n",
       "</div>"
      ],
      "text/plain": [
       "                                            sentence    art_ID\n",
       "1  [Belton, House, is, a, Grade, I, listed, count...  145492.0\n",
       "2  [The, mansion, is, surrounded, by, formal, gar...  145492.0\n",
       "3  [Belton, has, been, described, as, a, compilat...  145492.0\n",
       "4  [The, house, has, also, been, described, as, t...  145492.0\n",
       "5  [Only, Brympton, d'Evercy, has, been, similarl...  145492.0"
      ]
     },
     "execution_count": 38,
     "metadata": {},
     "output_type": "execute_result"
    }
   ],
   "source": [
    "doc77_df = pd.read_pickle('../corpus_WiNER/docs_df/77')\n",
    "article_df = doc77_df[doc77_df.art_ID == 145492]\n",
    "dec_sentence = article_df.iloc[0, article_df.columns.get_loc('sentence')]\n",
    "doc77_df.head()"
   ]
  },
  {
   "cell_type": "code",
   "execution_count": 39,
   "metadata": {},
   "outputs": [
    {
     "data": {
      "text/html": [
       "<div>\n",
       "<style scoped>\n",
       "    .dataframe tbody tr th:only-of-type {\n",
       "        vertical-align: middle;\n",
       "    }\n",
       "\n",
       "    .dataframe tbody tr th {\n",
       "        vertical-align: top;\n",
       "    }\n",
       "\n",
       "    .dataframe thead th {\n",
       "        text-align: right;\n",
       "    }\n",
       "</style>\n",
       "<table border=\"1\" class=\"dataframe\">\n",
       "  <thead>\n",
       "    <tr style=\"text-align: right;\">\n",
       "      <th></th>\n",
       "      <th>art_ID</th>\n",
       "      <th>senIdx</th>\n",
       "      <th>begin</th>\n",
       "      <th>end</th>\n",
       "      <th>entityType</th>\n",
       "    </tr>\n",
       "  </thead>\n",
       "  <tbody>\n",
       "    <tr>\n",
       "      <th>42515</th>\n",
       "      <td>145492.0</td>\n",
       "      <td>0</td>\n",
       "      <td>0</td>\n",
       "      <td>2</td>\n",
       "      <td>LOC</td>\n",
       "    </tr>\n",
       "    <tr>\n",
       "      <th>42516</th>\n",
       "      <td>145492.0</td>\n",
       "      <td>0</td>\n",
       "      <td>10</td>\n",
       "      <td>11</td>\n",
       "      <td>LOC</td>\n",
       "    </tr>\n",
       "    <tr>\n",
       "      <th>42517</th>\n",
       "      <td>145492.0</td>\n",
       "      <td>0</td>\n",
       "      <td>12</td>\n",
       "      <td>13</td>\n",
       "      <td>LOC</td>\n",
       "    </tr>\n",
       "    <tr>\n",
       "      <th>42518</th>\n",
       "      <td>145492.0</td>\n",
       "      <td>0</td>\n",
       "      <td>14</td>\n",
       "      <td>15</td>\n",
       "      <td>LOC</td>\n",
       "    </tr>\n",
       "    <tr>\n",
       "      <th>42519</th>\n",
       "      <td>145492.0</td>\n",
       "      <td>0</td>\n",
       "      <td>16</td>\n",
       "      <td>17</td>\n",
       "      <td>LOC</td>\n",
       "    </tr>\n",
       "  </tbody>\n",
       "</table>\n",
       "</div>"
      ],
      "text/plain": [
       "         art_ID  senIdx  begin  end entityType\n",
       "42515  145492.0       0      0    2        LOC\n",
       "42516  145492.0       0     10   11        LOC\n",
       "42517  145492.0       0     12   13        LOC\n",
       "42518  145492.0       0     14   15        LOC\n",
       "42519  145492.0       0     16   17        LOC"
      ]
     },
     "execution_count": 39,
     "metadata": {},
     "output_type": "execute_result"
    }
   ],
   "source": [
    "coarseNE_77 = pd.read_pickle('../corpus_WiNER/coarseNE_df/77')\n",
    "art_entities_df = coarseNE_77[coarseNE_77.art_ID == 145492]\n",
    "sen_entities_0 = art_entities_df[art_entities_df.senIdx == 0]\n",
    "art_entities_df.head()"
   ]
  },
  {
   "cell_type": "code",
   "execution_count": 40,
   "metadata": {},
   "outputs": [
    {
     "name": "stdout",
     "output_type": "stream",
     "text": [
      "Belton House : LOC\n",
      "Belton : LOC\n",
      "Grantham : LOC\n",
      "Lincolnshire : LOC\n",
      "England : LOC\n"
     ]
    }
   ],
   "source": [
    "for idx, row in sen_entities_0.iterrows():\n",
    "    print('{} : {}'.format(' '.join(dec_sentence[row['begin']:row['end']]), row['entityType']))"
   ]
  },
  {
   "cell_type": "code",
   "execution_count": 41,
   "metadata": {},
   "outputs": [
    {
     "name": "stdout",
     "output_type": "stream",
     "text": [
      "Belton House is a Grade I listed country house in Belton near Grantham , Lincolnshire , England .\n",
      "['LOC', 'LOC', 'O', 'O', 'O', 'O', 'O', 'O', 'O', 'O', 'LOC', 'O', 'LOC', 'O', 'LOC', 'O', 'LOC', 'O']\n"
     ]
    }
   ],
   "source": [
    "entity_list = entityListFromSentence(senIdx=0, sen_length=len(dec_sentence),\n",
    "                                     art_entities_df=art_entities_df)\n",
    "print(' '.join(article_df['sentence'][1]))\n",
    "print(entity_list)"
   ]
  },
  {
   "cell_type": "code",
   "execution_count": 42,
   "metadata": {},
   "outputs": [
    {
     "name": "stdout",
     "output_type": "stream",
     "text": [
      "demora: 2.1789989471435547\n"
     ]
    }
   ],
   "source": [
    "start = time.time()\n",
    "wordVector_Entity_df = getVector_EntityFromArticle(article_df, art_entities_df, \n",
    "                                                   strategy='exp_decay',\n",
    "                                                   W=5, w2v_model=w2v_model)\n",
    "end = time.time()\n",
    "print('demora:', end-start)"
   ]
  },
  {
   "cell_type": "code",
   "execution_count": 43,
   "metadata": {},
   "outputs": [
    {
     "name": "stdout",
     "output_type": "stream",
     "text": [
      "Cantidad de palabras: 4395\n",
      "Cantidad de entidades nombradas: 399\n",
      "Porcentaje de entidades nombradas: 9.08%\n"
     ]
    }
   ],
   "source": [
    "entity_list = list(wordVector_Entity_df['entityType'])\n",
    "tokens = len(entity_list)\n",
    "print('Cantidad de palabras: {}'.format(tokens))\n",
    "n_e = len(entity_list) - entity_list.count('O')\n",
    "print('Cantidad de entidades nombradas: {}'.format(n_e))\n",
    "print('Porcentaje de entidades nombradas: {:.2f}%'.format(n_e/tokens*100))"
   ]
  },
  {
   "cell_type": "markdown",
   "metadata": {},
   "source": [
    "En general, cada artículo contiene una proporción reducida de palabras que son entidades.\n",
    "\n",
    "Una alternativa para evitar cómputo y uso de memoria podría ser eliminar una proporción de vectores que no representan ninguna entidad (etiquetados con 'O') a la hora de construir la matriz de palabra - entidad."
   ]
  },
  {
   "cell_type": "code",
   "execution_count": 44,
   "metadata": {},
   "outputs": [
    {
     "data": {
      "text/html": [
       "<div>\n",
       "<style scoped>\n",
       "    .dataframe tbody tr th:only-of-type {\n",
       "        vertical-align: middle;\n",
       "    }\n",
       "\n",
       "    .dataframe tbody tr th {\n",
       "        vertical-align: top;\n",
       "    }\n",
       "\n",
       "    .dataframe thead th {\n",
       "        text-align: right;\n",
       "    }\n",
       "</style>\n",
       "<table border=\"1\" class=\"dataframe\">\n",
       "  <thead>\n",
       "    <tr style=\"text-align: right;\">\n",
       "      <th></th>\n",
       "      <th>entityType</th>\n",
       "      <th>wordVector</th>\n",
       "    </tr>\n",
       "  </thead>\n",
       "  <tbody>\n",
       "    <tr>\n",
       "      <th>0</th>\n",
       "      <td>LOC</td>\n",
       "      <td>[-0.003621502994722617, 0.012132806459215266, ...</td>\n",
       "    </tr>\n",
       "    <tr>\n",
       "      <th>1</th>\n",
       "      <td>LOC</td>\n",
       "      <td>[-0.08827082592044064, -0.13598437701614993, 0...</td>\n",
       "    </tr>\n",
       "    <tr>\n",
       "      <th>2</th>\n",
       "      <td>O</td>\n",
       "      <td>[-0.16997208299104571, 0.0033914764131283102, ...</td>\n",
       "    </tr>\n",
       "    <tr>\n",
       "      <th>3</th>\n",
       "      <td>O</td>\n",
       "      <td>[-0.3915967207881669, -0.12179563739202309, 0....</td>\n",
       "    </tr>\n",
       "    <tr>\n",
       "      <th>4</th>\n",
       "      <td>O</td>\n",
       "      <td>[0.048302400391625866, -0.09540661652931712, 0...</td>\n",
       "    </tr>\n",
       "    <tr>\n",
       "      <th>5</th>\n",
       "      <td>O</td>\n",
       "      <td>[-0.5453598294447486, -0.15736036498200667, 0....</td>\n",
       "    </tr>\n",
       "    <tr>\n",
       "      <th>6</th>\n",
       "      <td>O</td>\n",
       "      <td>[-0.12074501704763917, 0.06705739051063955, 0....</td>\n",
       "    </tr>\n",
       "    <tr>\n",
       "      <th>7</th>\n",
       "      <td>O</td>\n",
       "      <td>[-0.014825387882357826, -0.25825100262032796, ...</td>\n",
       "    </tr>\n",
       "    <tr>\n",
       "      <th>8</th>\n",
       "      <td>O</td>\n",
       "      <td>[-0.10727509902624327, 0.04387436488263421, 0....</td>\n",
       "    </tr>\n",
       "    <tr>\n",
       "      <th>9</th>\n",
       "      <td>O</td>\n",
       "      <td>[0.07985290764610813, -0.14920335335911, -0.03...</td>\n",
       "    </tr>\n",
       "  </tbody>\n",
       "</table>\n",
       "</div>"
      ],
      "text/plain": [
       "  entityType                                         wordVector\n",
       "0        LOC  [-0.003621502994722617, 0.012132806459215266, ...\n",
       "1        LOC  [-0.08827082592044064, -0.13598437701614993, 0...\n",
       "2          O  [-0.16997208299104571, 0.0033914764131283102, ...\n",
       "3          O  [-0.3915967207881669, -0.12179563739202309, 0....\n",
       "4          O  [0.048302400391625866, -0.09540661652931712, 0...\n",
       "5          O  [-0.5453598294447486, -0.15736036498200667, 0....\n",
       "6          O  [-0.12074501704763917, 0.06705739051063955, 0....\n",
       "7          O  [-0.014825387882357826, -0.25825100262032796, ...\n",
       "8          O  [-0.10727509902624327, 0.04387436488263421, 0....\n",
       "9          O  [0.07985290764610813, -0.14920335335911, -0.03..."
      ]
     },
     "execution_count": 44,
     "metadata": {},
     "output_type": "execute_result"
    }
   ],
   "source": [
    "wordVector_Entity_df.head(10)"
   ]
  },
  {
   "cell_type": "code",
   "execution_count": 45,
   "metadata": {},
   "outputs": [
    {
     "data": {
      "text/html": [
       "<div>\n",
       "<style scoped>\n",
       "    .dataframe tbody tr th:only-of-type {\n",
       "        vertical-align: middle;\n",
       "    }\n",
       "\n",
       "    .dataframe tbody tr th {\n",
       "        vertical-align: top;\n",
       "    }\n",
       "\n",
       "    .dataframe thead th {\n",
       "        text-align: right;\n",
       "    }\n",
       "</style>\n",
       "<table border=\"1\" class=\"dataframe\">\n",
       "  <thead>\n",
       "    <tr style=\"text-align: right;\">\n",
       "      <th></th>\n",
       "      <th>entityType</th>\n",
       "      <th>wordVector</th>\n",
       "    </tr>\n",
       "  </thead>\n",
       "  <tbody>\n",
       "    <tr>\n",
       "      <th>0</th>\n",
       "      <td>LOC</td>\n",
       "      <td>[-0.003621502994722617, 0.012132806459215266, ...</td>\n",
       "    </tr>\n",
       "    <tr>\n",
       "      <th>1</th>\n",
       "      <td>LOC</td>\n",
       "      <td>[-0.08827082592044064, -0.13598437701614993, 0...</td>\n",
       "    </tr>\n",
       "    <tr>\n",
       "      <th>5</th>\n",
       "      <td>O</td>\n",
       "      <td>[-0.5453598294447486, -0.15736036498200667, 0....</td>\n",
       "    </tr>\n",
       "    <tr>\n",
       "      <th>6</th>\n",
       "      <td>O</td>\n",
       "      <td>[-0.12074501704763917, 0.06705739051063955, 0....</td>\n",
       "    </tr>\n",
       "    <tr>\n",
       "      <th>8</th>\n",
       "      <td>O</td>\n",
       "      <td>[-0.10727509902624327, 0.04387436488263421, 0....</td>\n",
       "    </tr>\n",
       "    <tr>\n",
       "      <th>9</th>\n",
       "      <td>O</td>\n",
       "      <td>[0.07985290764610813, -0.14920335335911, -0.03...</td>\n",
       "    </tr>\n",
       "  </tbody>\n",
       "</table>\n",
       "</div>"
      ],
      "text/plain": [
       "  entityType                                         wordVector\n",
       "0        LOC  [-0.003621502994722617, 0.012132806459215266, ...\n",
       "1        LOC  [-0.08827082592044064, -0.13598437701614993, 0...\n",
       "5          O  [-0.5453598294447486, -0.15736036498200667, 0....\n",
       "6          O  [-0.12074501704763917, 0.06705739051063955, 0....\n",
       "8          O  [-0.10727509902624327, 0.04387436488263421, 0....\n",
       "9          O  [0.07985290764610813, -0.14920335335911, -0.03..."
      ]
     },
     "execution_count": 45,
     "metadata": {},
     "output_type": "execute_result"
    }
   ],
   "source": [
    "drop_non_entities(wordVector_Entity_df.head(10), 0.50)"
   ]
  },
  {
   "cell_type": "markdown",
   "metadata": {},
   "source": [
    "# División de los documentos"
   ]
  },
  {
   "cell_type": "markdown",
   "metadata": {},
   "source": [
    "### Cargamos los primeros 2000 documentos que van a ser utilizados para entrenamiento"
   ]
  },
  {
   "cell_type": "code",
   "execution_count": 71,
   "metadata": {},
   "outputs": [],
   "source": [
    "doc_filenames, coarseNE_filenames = read_filenames()"
   ]
  },
  {
   "cell_type": "code",
   "execution_count": 72,
   "metadata": {},
   "outputs": [],
   "source": [
    "docs_df, coarseNE_df = load_docs(doc_filenames[0:2000], coarseNE_filenames[0:2000])"
   ]
  },
  {
   "cell_type": "code",
   "execution_count": 73,
   "metadata": {},
   "outputs": [
    {
     "name": "stdout",
     "output_type": "stream",
     "text": [
      "Cantidad de oraciones: 40865743\n"
     ]
    }
   ],
   "source": [
    "print('Cantidad de oraciones:', docs_df.shape[0])"
   ]
  },
  {
   "cell_type": "code",
   "execution_count": 74,
   "metadata": {},
   "outputs": [
    {
     "name": "stdout",
     "output_type": "stream",
     "text": [
      "Cantidad de artículos que no contienen ninguna entidad: 5376\n"
     ]
    }
   ],
   "source": [
    "print('Cantidad de artículos que no contienen ninguna entidad:', \n",
    "      len(docs_df.art_ID.unique()) - len(coarseNE_df.art_ID.unique()))"
   ]
  },
  {
   "cell_type": "markdown",
   "metadata": {},
   "source": [
    "Nos quedamos con aquellos artículos que contienen al menos una entidad nombrada."
   ]
  },
  {
   "cell_type": "code",
   "execution_count": 76,
   "metadata": {},
   "outputs": [],
   "source": [
    "art_IDs = coarseNE_df.art_ID.unique() # Solo se ejecuta la primera vez sino no fueron guardados"
   ]
  },
  {
   "cell_type": "markdown",
   "metadata": {},
   "source": [
    "#### Extraemos una muestra aleatoria de 1000 artículos"
   ]
  },
  {
   "cell_type": "code",
   "execution_count": 10,
   "metadata": {},
   "outputs": [],
   "source": [
    "# np.random.seed(42)\n",
    "# np.random.shuffle(art_IDs)\n",
    "# art_IDs_sample = art_IDs[0:1000]"
   ]
  },
  {
   "cell_type": "markdown",
   "metadata": {},
   "source": [
    "#### Guardamos los IDs de los articulos seleccionados en la muestra"
   ]
  },
  {
   "cell_type": "code",
   "execution_count": 8,
   "metadata": {},
   "outputs": [],
   "source": [
    "# art_IDs_sample_df = pd.DataFrame(data=art_IDs_sample, columns=['art_ID'])\n",
    "# art_IDs_sample_df.to_csv('../corpus_WiNER/art_IDs_sample_train.csv', index=False)"
   ]
  },
  {
   "cell_type": "markdown",
   "metadata": {},
   "source": [
    "#### Cargamos"
   ]
  },
  {
   "cell_type": "code",
   "execution_count": 77,
   "metadata": {},
   "outputs": [],
   "source": [
    "art_IDs_sample_train = pd.read_csv('../corpus_WiNER/art_IDs_sample_train.csv')\n",
    "art_IDs_sample_train = np.array(art_IDs_sample_train['art_ID'])"
   ]
  },
  {
   "cell_type": "markdown",
   "metadata": {},
   "source": [
    "#### Sampleamos nuevos art_IDs distintos a los cargados anteriormente "
   ]
  },
  {
   "cell_type": "code",
   "execution_count": 78,
   "metadata": {},
   "outputs": [],
   "source": [
    "# np.random.seed(42)\n",
    "# np.random.shuffle(art_IDs)\n",
    "# art_IDs_sample = art_IDs\n",
    "# art_IDs_sample_train_extra = [art_id for art_id in art_IDs_sample if art_id not in art_IDs_sample_train]\n",
    "# art_IDs_sample_train_extra = art_IDs_sample_train_extra[0:5000]"
   ]
  },
  {
   "cell_type": "code",
   "execution_count": 79,
   "metadata": {},
   "outputs": [],
   "source": [
    "# art_IDs_sample_df = pd.DataFrame(data=art_IDs_sample_train_extra, columns=['art_ID'])\n",
    "# art_IDs_sample_df.to_csv('../corpus_WiNER/art_IDs_sample_train_extra.csv', index=False)"
   ]
  },
  {
   "cell_type": "code",
   "execution_count": 80,
   "metadata": {},
   "outputs": [],
   "source": [
    "art_IDs_sample_train_extra = pd.read_csv('../corpus_WiNER/art_IDs_sample_train_extra.csv')\n",
    "art_IDs_sample_train_extra = np.array(art_IDs_sample_train_extra['art_ID'])"
   ]
  },
  {
   "cell_type": "markdown",
   "metadata": {},
   "source": [
    "#### Filtramos"
   ]
  },
  {
   "cell_type": "code",
   "execution_count": 88,
   "metadata": {},
   "outputs": [],
   "source": [
    "articles_df = docs_df[docs_df.art_ID.isin(art_IDs_sample_train)]\n",
    "entities_df = coarseNE_df[coarseNE_df.art_ID.isin(art_IDs_sample_train)]"
   ]
  },
  {
   "cell_type": "code",
   "execution_count": 89,
   "metadata": {},
   "outputs": [
    {
     "data": {
      "text/plain": [
       "(20870, 2)"
      ]
     },
     "execution_count": 89,
     "metadata": {},
     "output_type": "execute_result"
    }
   ],
   "source": [
    "articles_df.shape"
   ]
  },
  {
   "cell_type": "code",
   "execution_count": 90,
   "metadata": {},
   "outputs": [
    {
     "name": "stderr",
     "output_type": "stream",
     "text": [
      "\n",
      "\n",
      "  0%|          | 0/1 [00:00<?, ?it/s]\u001b[A\u001b[A\n",
      "\n",
      "2it [00:00,  4.39it/s]               \u001b[A\u001b[A\n",
      "\n",
      "4it [00:00,  4.81it/s]\u001b[A\u001b[A\n",
      "\n",
      "5it [00:01,  4.05it/s]\u001b[A\u001b[A\n",
      "\n",
      "6it [00:01,  2.72it/s]\u001b[A\u001b[A\n",
      "\n",
      "7it [00:03,  1.56it/s]\u001b[A\u001b[A\n",
      "\n",
      "8it [00:08,  1.98s/it]\u001b[A\u001b[A\n",
      "\n",
      "9it [00:10,  2.08s/it]\u001b[A\u001b[A\n",
      "\n",
      "10it [00:13,  2.32s/it]\u001b[A\u001b[A/home/ekokic/miniconda3/envs/thesis-tf-gpu/lib/python3.5/site-packages/numpy/core/fromnumeric.py:2920: RuntimeWarning: Mean of empty slice.\n",
      "  out=out, **kwargs)\n",
      "/home/ekokic/miniconda3/envs/thesis-tf-gpu/lib/python3.5/site-packages/numpy/core/_methods.py:85: RuntimeWarning: invalid value encountered in double_scalars\n",
      "  ret = ret.dtype.type(ret / rcount)\n",
      "\n",
      "\n",
      "11it [00:13,  1.81s/it]\u001b[A\u001b[A\n",
      "\n",
      "12it [00:14,  1.39s/it]\u001b[A\u001b[A\n",
      "\n",
      "13it [00:14,  1.15s/it]\u001b[A\u001b[A\n",
      "\n",
      "14it [00:15,  1.09s/it]\u001b[A\u001b[A\n",
      "\n",
      "16it [00:16,  1.21it/s]\u001b[A\u001b[A\n",
      "\n",
      "17it [00:17,  1.21it/s]\u001b[A\u001b[A\n",
      "\n",
      "18it [00:17,  1.63it/s]\u001b[A\u001b[A\n",
      "\n",
      "19it [00:18,  1.08it/s]\u001b[A\u001b[A\n",
      "\n",
      "20it [00:19,  1.44it/s]\u001b[A\u001b[A\n",
      "\n",
      "21it [00:19,  1.78it/s]\u001b[A\u001b[A\n",
      "\n",
      "22it [00:19,  2.10it/s]\u001b[A\u001b[A\n",
      "\n",
      "23it [00:22,  1.12s/it]\u001b[A\u001b[A\n",
      "\n",
      "24it [00:22,  1.05it/s]\u001b[A\u001b[A\n",
      "\n",
      "26it [00:27,  1.43s/it]\u001b[A\u001b[A\n",
      "\n",
      "29it [00:28,  1.03s/it]\u001b[A\u001b[A\n",
      "\n",
      "30it [00:29,  1.03s/it]\u001b[A\u001b[A\n",
      "\n",
      "31it [00:30,  1.01s/it]\u001b[A\u001b[A\n",
      "\n",
      "32it [00:30,  1.31it/s]\u001b[A\u001b[A\n",
      "\n",
      "33it [00:30,  1.57it/s]\u001b[A\u001b[A\n",
      "\n",
      "36it [00:31,  1.82it/s]\u001b[A\u001b[A\n",
      "\n",
      "37it [00:32,  1.93it/s]\u001b[A\u001b[A\n",
      "\n",
      "38it [00:32,  2.27it/s]\u001b[A\u001b[A\n",
      "\n",
      "39it [00:33,  1.60it/s]\u001b[A\u001b[A\n",
      "\n",
      "40it [00:33,  1.87it/s]\u001b[A\u001b[A\n",
      "\n",
      "41it [00:34,  2.10it/s]\u001b[A\u001b[A\n",
      "\n",
      "42it [00:34,  2.31it/s]\u001b[A\u001b[A\n",
      "\n",
      "43it [00:34,  2.49it/s]\u001b[A\u001b[A\n",
      "\n",
      "44it [00:35,  3.04it/s]\u001b[A\u001b[A\n",
      "\n",
      "45it [00:35,  3.53it/s]\u001b[A\u001b[A\n",
      "\n",
      "46it [00:35,  3.00it/s]\u001b[A\u001b[A\n",
      "\n",
      "47it [00:36,  2.87it/s]\u001b[A\u001b[A\n",
      "\n",
      "48it [00:36,  2.61it/s]\u001b[A\u001b[A\n",
      "\n",
      "49it [00:37,  1.67it/s]\u001b[A\u001b[A\n",
      "\n",
      "51it [00:38,  1.60it/s]\u001b[A\u001b[A\n",
      "\n",
      "52it [00:39,  2.13it/s]\u001b[A\u001b[A\n",
      "\n",
      "53it [00:39,  2.38it/s]\u001b[A\u001b[A\n",
      "\n",
      "54it [00:39,  2.74it/s]\u001b[A\u001b[A\n",
      "\n",
      "55it [00:40,  2.35it/s]\u001b[A\u001b[A\n",
      "\n",
      "56it [00:40,  2.13it/s]\u001b[A\u001b[A\n",
      "\n",
      "57it [00:41,  1.76it/s]\u001b[A\u001b[A\n",
      "\n",
      "58it [00:41,  2.26it/s]\u001b[A\u001b[A\n",
      "\n",
      "59it [00:42,  2.45it/s]\u001b[A\u001b[A\n",
      "\n",
      "60it [00:42,  1.91it/s]\u001b[A\u001b[A\n",
      "\n",
      "61it [00:43,  1.82it/s]\u001b[A\u001b[A\n",
      "\n",
      "62it [00:44,  1.50it/s]\u001b[A\u001b[A\n",
      "\n",
      "63it [00:44,  1.95it/s]\u001b[A\u001b[A\n",
      "\n",
      "64it [00:44,  1.97it/s]\u001b[A\u001b[A\n",
      "\n",
      "65it [00:45,  2.23it/s]\u001b[A\u001b[A\n",
      "\n",
      "66it [00:46,  1.49it/s]\u001b[A\u001b[A\n",
      "\n",
      "67it [00:47,  1.43it/s]\u001b[A\u001b[A\n",
      "\n",
      "68it [00:48,  1.12it/s]\u001b[A\u001b[A\n",
      "\n",
      "69it [00:49,  1.22it/s]\u001b[A\u001b[A\n",
      "\n",
      "70it [00:49,  1.35it/s]\u001b[A\u001b[A\n",
      "\n",
      "71it [00:51,  1.17s/it]\u001b[A\u001b[A\n",
      "\n",
      "72it [00:52,  1.04s/it]\u001b[A\u001b[A\n",
      "\n",
      "73it [00:53,  1.02s/it]\u001b[A\u001b[A\n",
      "\n",
      "74it [00:54,  1.05s/it]\u001b[A\u001b[A\n",
      "\n",
      "75it [00:55,  1.15it/s]\u001b[A\u001b[A\n",
      "\n",
      "76it [00:56,  1.15it/s]\u001b[A\u001b[A\n",
      "\n",
      "77it [00:56,  1.53it/s]\u001b[A\u001b[A\n",
      "\n",
      "78it [00:56,  1.99it/s]\u001b[A\u001b[A\n",
      "\n",
      "79it [00:57,  1.27it/s]\u001b[A\u001b[A\n",
      "\n",
      "80it [00:58,  1.69it/s]\u001b[A\u001b[A\n",
      "\n",
      "81it [00:58,  1.83it/s]\u001b[A\u001b[A\n",
      "\n",
      "83it [00:58,  2.33it/s]\u001b[A\u001b[A\n",
      "\n",
      "84it [00:59,  1.78it/s]\u001b[A\u001b[A\n",
      "\n",
      "85it [00:59,  2.15it/s]\u001b[A\u001b[A\n",
      "\n",
      "86it [01:00,  2.49it/s]\u001b[A\u001b[A\n",
      "\n",
      "87it [01:00,  2.75it/s]\u001b[A\u001b[A\n",
      "\n",
      "88it [01:00,  3.20it/s]\u001b[A\u001b[A\n",
      "\n",
      "89it [01:00,  3.51it/s]\u001b[A\u001b[A\n",
      "\n",
      "90it [01:01,  2.35it/s]\u001b[A\u001b[A\n",
      "\n",
      "92it [01:01,  3.20it/s]\u001b[A\u001b[A\n",
      "\n",
      "93it [01:01,  3.84it/s]\u001b[A\u001b[A\n",
      "\n",
      "94it [01:03,  1.76it/s]\u001b[A\u001b[A\n",
      "\n",
      "95it [01:03,  2.00it/s]\u001b[A\u001b[A\n",
      "\n",
      "96it [01:06,  1.20s/it]\u001b[A\u001b[A\n",
      "\n",
      "97it [01:07,  1.19s/it]\u001b[A\u001b[A\n",
      "\n",
      "98it [01:07,  1.15it/s]\u001b[A\u001b[A\n",
      "\n",
      "100it [01:08,  1.43it/s]\u001b[A\u001b[A\n",
      "\n",
      "102it [01:08,  1.86it/s]\u001b[A\u001b[A\n",
      "\n",
      "103it [01:08,  2.07it/s]\u001b[A\u001b[A\n",
      "\n",
      "104it [01:09,  1.58it/s]\u001b[A\u001b[A\n",
      "\n",
      "105it [01:11,  1.01s/it]\u001b[A\u001b[A\n",
      "\n",
      "106it [01:12,  1.17it/s]\u001b[A\u001b[A\n",
      "\n",
      "107it [01:12,  1.53it/s]\u001b[A\u001b[A\n",
      "\n",
      "108it [01:12,  1.66it/s]\u001b[A\u001b[A\n",
      "\n",
      "109it [01:13,  1.58it/s]\u001b[A\u001b[A\n",
      "\n",
      "110it [01:13,  1.77it/s]\u001b[A\u001b[A\n",
      "\n",
      "112it [01:14,  2.16it/s]\u001b[A\u001b[A\n",
      "\n",
      "114it [01:14,  2.72it/s]\u001b[A\u001b[A\n",
      "\n",
      "115it [01:14,  3.08it/s]\u001b[A\u001b[A\n",
      "\n",
      "116it [01:15,  2.96it/s]\u001b[A\u001b[A\n",
      "\n",
      "117it [01:15,  3.17it/s]\u001b[A\u001b[A\n",
      "\n",
      "118it [01:16,  2.19it/s]\u001b[A\u001b[A\n",
      "\n",
      "119it [01:16,  2.42it/s]\u001b[A\u001b[A\n",
      "\n",
      "120it [01:17,  2.50it/s]\u001b[A\u001b[A\n",
      "\n",
      "123it [01:19,  1.93it/s]\u001b[A\u001b[A\n",
      "\n",
      "124it [01:19,  1.95it/s]\u001b[A\u001b[A\n",
      "\n",
      "126it [01:20,  2.59it/s]\u001b[A\u001b[A\n",
      "\n",
      "127it [01:20,  2.71it/s]\u001b[A\u001b[A\n",
      "\n",
      "128it [01:20,  2.63it/s]\u001b[A\u001b[A\n",
      "\n",
      "129it [01:22,  1.34it/s]\u001b[A\u001b[A\n",
      "\n",
      "130it [01:23,  1.05it/s]\u001b[A\u001b[A\n",
      "\n",
      "131it [01:24,  1.15it/s]\u001b[A\u001b[A\n",
      "\n",
      "132it [01:25,  1.10it/s]\u001b[A\u001b[A\n",
      "\n",
      "133it [01:25,  1.43it/s]\u001b[A\u001b[A\n",
      "\n",
      "134it [01:25,  1.82it/s]\u001b[A\u001b[A\n",
      "\n",
      "136it [01:26,  2.07it/s]\u001b[A\u001b[A\n",
      "\n",
      "137it [01:26,  2.57it/s]\u001b[A\u001b[A\n",
      "\n",
      "138it [01:26,  3.06it/s]\u001b[A\u001b[A\n",
      "\n",
      "139it [01:27,  3.76it/s]\u001b[A\u001b[A\n",
      "\n",
      "140it [01:27,  4.58it/s]\u001b[A\u001b[A\n",
      "\n",
      "141it [01:28,  1.97it/s]\u001b[A\u001b[A\n",
      "\n",
      "142it [01:28,  2.48it/s]\u001b[A\u001b[A\n",
      "\n",
      "144it [01:29,  2.86it/s]\u001b[A\u001b[A\n",
      "\n",
      "145it [01:32,  1.19s/it]\u001b[A\u001b[A\n",
      "\n",
      "146it [01:32,  1.07it/s]\u001b[A\u001b[A\n",
      "\n",
      "147it [01:33,  1.03it/s]\u001b[A\u001b[A\n",
      "\n",
      "149it [01:33,  1.36it/s]\u001b[A\u001b[A\n",
      "\n",
      "151it [01:34,  1.77it/s]\u001b[A\u001b[A\n",
      "\n",
      "152it [01:34,  2.19it/s]\u001b[A\u001b[A\n",
      "\n",
      "153it [01:34,  2.69it/s]\u001b[A\u001b[A\n",
      "\n",
      "154it [01:34,  3.09it/s]\u001b[A\u001b[A\n",
      "\n",
      "156it [01:34,  4.05it/s]\u001b[A\u001b[A\n",
      "\n",
      "157it [01:35,  4.44it/s]\u001b[A\u001b[A\n",
      "\n",
      "158it [01:35,  4.25it/s]\u001b[A\u001b[A\n",
      "\n",
      "159it [01:35,  4.91it/s]\u001b[A\u001b[A\n",
      "\n",
      "162it [01:36,  4.62it/s]\u001b[A\u001b[A\n",
      "\n",
      "163it [01:37,  2.52it/s]\u001b[A\u001b[A\n",
      "\n",
      "164it [01:37,  2.00it/s]\u001b[A\u001b[A\n",
      "\n",
      "165it [01:37,  2.60it/s]\u001b[A\u001b[A\n",
      "\n",
      "168it [01:38,  2.74it/s]\u001b[A\u001b[A\n",
      "\n",
      "169it [01:39,  3.09it/s]\u001b[A\u001b[A\n",
      "\n",
      "170it [01:39,  3.85it/s]\u001b[A\u001b[A\n",
      "\n",
      "172it [01:39,  5.02it/s]\u001b[A\u001b[A\n",
      "\n",
      "174it [01:39,  6.03it/s]\u001b[A\u001b[A\n",
      "\n",
      "175it [01:39,  6.22it/s]\u001b[A\u001b[A\n",
      "\n",
      "176it [01:39,  5.90it/s]\u001b[A\u001b[A\n",
      "\n",
      "177it [01:40,  2.82it/s]\u001b[A\u001b[A\n",
      "\n",
      "178it [01:40,  3.56it/s]\u001b[A\u001b[A\n",
      "\n",
      "179it [01:40,  4.34it/s]\u001b[A\u001b[A\n",
      "\n",
      "180it [01:41,  4.72it/s]\u001b[A\u001b[A\n",
      "\n",
      "181it [01:41,  3.42it/s]\u001b[A\u001b[A\n",
      "\n",
      "182it [01:41,  3.73it/s]\u001b[A\u001b[A\n",
      "\n",
      "183it [01:42,  3.04it/s]\u001b[A\u001b[A\n",
      "\n",
      "184it [01:42,  2.96it/s]\u001b[A\u001b[A\n",
      "\n",
      "185it [01:42,  3.67it/s]\u001b[A\u001b[A\n",
      "\n",
      "186it [01:43,  3.13it/s]\u001b[A\u001b[A\n",
      "\n",
      "187it [01:43,  3.81it/s]\u001b[A\u001b[A\n",
      "\n",
      "188it [01:43,  3.65it/s]\u001b[A\u001b[A\n",
      "\n",
      "189it [01:43,  3.83it/s]\u001b[A\u001b[A\n",
      "\n",
      "190it [01:43,  4.17it/s]\u001b[A\u001b[A\n",
      "\n",
      "191it [01:44,  5.04it/s]\u001b[A\u001b[A\n",
      "\n",
      "192it [01:44,  5.76it/s]\u001b[A\u001b[A\n",
      "\n",
      "193it [01:44,  2.90it/s]\u001b[A\u001b[A\n",
      "\n",
      "194it [01:45,  3.59it/s]\u001b[A\u001b[A\n",
      "\n",
      "195it [01:45,  3.49it/s]\u001b[A\u001b[A\n",
      "\n",
      "197it [01:45,  3.71it/s]\u001b[A\u001b[A\n",
      "\n",
      "198it [01:46,  3.86it/s]\u001b[A\u001b[A\n",
      "\n",
      "199it [01:46,  4.39it/s]\u001b[A\u001b[A\n",
      "\n",
      "200it [01:46,  5.12it/s]\u001b[A\u001b[A\n",
      "\n",
      "202it [01:46,  5.87it/s]\u001b[A\u001b[A\n",
      "\n",
      "203it [01:46,  5.87it/s]\u001b[A\u001b[A\n",
      "\n",
      "204it [01:47,  3.24it/s]\u001b[A\u001b[A\n",
      "\n",
      "205it [01:48,  1.70it/s]\u001b[A\u001b[A\n",
      "\n",
      "206it [01:49,  1.50it/s]\u001b[A\u001b[A\n",
      "\n",
      "207it [01:49,  2.01it/s]\u001b[A\u001b[A\n",
      "\n",
      "208it [01:49,  2.59it/s]\u001b[A\u001b[A\n",
      "\n",
      "209it [01:49,  3.29it/s]\u001b[A\u001b[A\n",
      "\n",
      "210it [01:51,  1.18it/s]\u001b[A\u001b[A\n",
      "\n",
      "211it [01:52,  1.46it/s]\u001b[A\u001b[A\n",
      "\n",
      "212it [01:52,  1.96it/s]\u001b[A\u001b[A\n",
      "\n",
      "213it [01:53,  1.33it/s]\u001b[A\u001b[A\n",
      "\n",
      "214it [01:53,  1.78it/s]\u001b[A\u001b[A\n",
      "\n",
      "216it [01:53,  2.45it/s]\u001b[A\u001b[A\n",
      "\n",
      "218it [01:54,  2.33it/s]\u001b[A\u001b[A\n",
      "\n",
      "219it [01:54,  2.84it/s]\u001b[A\u001b[A\n",
      "\n",
      "220it [01:55,  3.01it/s]\u001b[A\u001b[A\n",
      "\n",
      "221it [01:55,  3.50it/s]\u001b[A\u001b[A\n",
      "\n",
      "223it [01:55,  3.76it/s]\u001b[A\u001b[A\n",
      "\n",
      "224it [01:56,  3.08it/s]\u001b[A\u001b[A\n",
      "\n",
      "225it [01:56,  3.68it/s]\u001b[A\u001b[A\n",
      "\n",
      "227it [01:57,  3.71it/s]\u001b[A\u001b[A\n",
      "\n",
      "230it [01:57,  3.66it/s]\u001b[A\u001b[A\n",
      "\n",
      "231it [01:58,  2.74it/s]\u001b[A\u001b[A\n",
      "\n",
      "232it [01:58,  3.20it/s]\u001b[A\u001b[A\n",
      "\n",
      "233it [01:58,  3.99it/s]\u001b[A\u001b[A\n",
      "\n",
      "234it [01:59,  3.42it/s]\u001b[A\u001b[A\n",
      "\n",
      "235it [01:59,  4.25it/s]\u001b[A\u001b[A\n",
      "\n",
      "236it [01:59,  4.75it/s]\u001b[A\u001b[A\n",
      "\n",
      "237it [01:59,  4.35it/s]\u001b[A\u001b[A\n",
      "\n",
      "238it [01:59,  3.94it/s]\u001b[A\u001b[A\n",
      "\n",
      "240it [02:00,  4.99it/s]\u001b[A\u001b[A\n",
      "\n",
      "241it [02:00,  4.14it/s]\u001b[A\u001b[A\n",
      "\n",
      "243it [02:00,  4.36it/s]\u001b[A\u001b[A\n",
      "\n",
      "244it [02:01,  2.97it/s]\u001b[A\u001b[A\n",
      "\n",
      "245it [02:01,  3.42it/s]\u001b[A\u001b[A\n",
      "\n",
      "246it [02:01,  4.07it/s]\u001b[A\u001b[A\n",
      "\n",
      "248it [02:01,  5.25it/s]\u001b[A\u001b[A\n",
      "\n",
      "250it [02:02,  4.48it/s]\u001b[A\u001b[A\n",
      "\n",
      "252it [02:03,  3.93it/s]\u001b[A\u001b[A\n",
      "\n",
      "253it [02:03,  3.11it/s]\u001b[A\u001b[A\n",
      "\n",
      "255it [02:04,  3.23it/s]\u001b[A\u001b[A\n",
      "\n",
      "256it [02:04,  2.53it/s]\u001b[A\u001b[A\n",
      "\n",
      "257it [02:05,  2.54it/s]\u001b[A\u001b[A\n",
      "\n",
      "258it [02:05,  3.11it/s]\u001b[A\u001b[A\n",
      "\n",
      "259it [02:05,  3.91it/s]\u001b[A\u001b[A\n",
      "\n",
      "260it [02:05,  4.39it/s]\u001b[A\u001b[A\n",
      "\n",
      "261it [02:07,  1.39it/s]\u001b[A\u001b[A\n",
      "\n",
      "262it [02:07,  1.83it/s]\u001b[A\u001b[A\n",
      "\n",
      "263it [02:07,  2.36it/s]\u001b[A\u001b[A\n",
      "\n",
      "264it [02:08,  2.16it/s]\u001b[A\u001b[A\n",
      "\n",
      "265it [02:08,  2.65it/s]\u001b[A\u001b[A\n",
      "\n",
      "266it [02:08,  2.82it/s]\u001b[A\u001b[A\n",
      "\n",
      "268it [02:09,  3.54it/s]\u001b[A\u001b[A\n",
      "\n",
      "270it [02:09,  4.62it/s]\u001b[A\u001b[A\n",
      "\n",
      "271it [02:10,  1.60it/s]\u001b[A\u001b[A\n",
      "\n",
      "272it [02:11,  1.52it/s]\u001b[A\u001b[A\n",
      "\n",
      "275it [02:11,  1.97it/s]\u001b[A\u001b[A\n",
      "\n",
      "276it [02:12,  2.29it/s]\u001b[A\u001b[A\n",
      "\n",
      "277it [02:12,  2.42it/s]\u001b[A\u001b[A\n",
      "\n",
      "279it [02:12,  2.95it/s]\u001b[A\u001b[A\n",
      "\n",
      "281it [02:13,  3.69it/s]\u001b[A\u001b[A\n",
      "\n",
      "283it [02:13,  3.20it/s]\u001b[A\u001b[A\n",
      "\n",
      "284it [02:14,  3.35it/s]\u001b[A\u001b[A\n",
      "\n",
      "286it [02:14,  3.90it/s]\u001b[A\u001b[A\n",
      "\n",
      "287it [02:14,  4.25it/s]\u001b[A\u001b[A\n",
      "\n",
      "289it [02:14,  5.16it/s]\u001b[A\u001b[A\n",
      "\n",
      "290it [02:15,  4.66it/s]\u001b[A\u001b[A\n",
      "\n",
      "291it [02:15,  3.98it/s]\u001b[A\u001b[A\n",
      "\n",
      "293it [02:15,  4.26it/s]\u001b[A\u001b[A\n",
      "\n",
      "295it [02:16,  4.02it/s]\u001b[A\u001b[A\n",
      "\n",
      "296it [02:16,  3.23it/s]\u001b[A\u001b[A\n",
      "\n",
      "298it [02:17,  4.26it/s]\u001b[A\u001b[A\n",
      "\n",
      "300it [02:17,  5.02it/s]\u001b[A\u001b[A\n",
      "\n",
      "301it [02:17,  4.60it/s]\u001b[A\u001b[A\n",
      "\n"
     ]
    },
    {
     "name": "stderr",
     "output_type": "stream",
     "text": [
      "302it [02:17,  4.35it/s]\u001b[A\u001b[A\n",
      "\n",
      "303it [02:18,  4.11it/s]\u001b[A\u001b[A\n",
      "\n",
      "306it [02:18,  5.28it/s]\u001b[A\u001b[A\n",
      "\n",
      "307it [02:18,  3.14it/s]\u001b[A\u001b[A\n",
      "\n",
      "308it [02:19,  3.27it/s]\u001b[A\u001b[A\n",
      "\n",
      "309it [02:19,  3.94it/s]\u001b[A\u001b[A\n",
      "\n",
      "310it [02:19,  4.28it/s]\u001b[A\u001b[A\n",
      "\n",
      "311it [02:19,  4.70it/s]\u001b[A\u001b[A\n",
      "\n",
      "313it [02:19,  5.16it/s]\u001b[A\u001b[A\n",
      "\n",
      "314it [02:20,  5.26it/s]\u001b[A\u001b[A\n",
      "\n",
      "316it [02:20,  6.50it/s]\u001b[A\u001b[A\n",
      "\n",
      "317it [02:20,  6.77it/s]\u001b[A\u001b[A\n",
      "\n",
      "318it [02:20,  6.34it/s]\u001b[A\u001b[A\n",
      "\n",
      "319it [02:20,  6.66it/s]\u001b[A\u001b[A\n",
      "\n",
      "320it [02:20,  6.16it/s]\u001b[A\u001b[A\n",
      "\n",
      "322it [02:20,  7.69it/s]\u001b[A\u001b[A\n",
      "\n",
      "324it [02:21,  6.68it/s]\u001b[A\u001b[A\n",
      "\n",
      "327it [02:22,  5.52it/s]\u001b[A\u001b[A\n",
      "\n",
      "328it [02:23,  1.61it/s]\u001b[A\u001b[A\n",
      "\n",
      "329it [02:24,  1.86it/s]\u001b[A\u001b[A\n",
      "\n",
      "330it [02:24,  2.39it/s]\u001b[A\u001b[A\n",
      "\n",
      "331it [02:24,  2.72it/s]\u001b[A\u001b[A\n",
      "\n",
      "332it [02:24,  3.20it/s]\u001b[A\u001b[A\n",
      "\n",
      "333it [02:25,  2.96it/s]\u001b[A\u001b[A\n",
      "\n",
      "334it [02:25,  3.73it/s]\u001b[A\u001b[A\n",
      "\n",
      "335it [02:25,  3.76it/s]\u001b[A\u001b[A\n",
      "\n",
      "336it [02:25,  3.99it/s]\u001b[A\u001b[A\n",
      "\n",
      "338it [02:25,  4.54it/s]\u001b[A\u001b[A\n",
      "\n",
      "339it [02:26,  3.77it/s]\u001b[A\u001b[A\n",
      "\n",
      "340it [02:26,  4.39it/s]\u001b[A\u001b[A\n",
      "\n",
      "342it [02:27,  3.36it/s]\u001b[A\u001b[A\n",
      "\n",
      "343it [02:28,  2.27it/s]\u001b[A\u001b[A\n",
      "\n",
      "345it [02:28,  2.85it/s]\u001b[A\u001b[A\n",
      "\n",
      "346it [02:28,  3.56it/s]\u001b[A\u001b[A\n",
      "\n",
      "347it [02:29,  2.38it/s]\u001b[A\u001b[A\n",
      "\n",
      "348it [02:29,  2.20it/s]\u001b[A\u001b[A\n",
      "\n",
      "349it [02:30,  1.56it/s]\u001b[A\u001b[A\n",
      "\n",
      "352it [02:31,  2.08it/s]\u001b[A\u001b[A\n",
      "\n",
      "354it [02:31,  2.80it/s]\u001b[A\u001b[A\n",
      "\n",
      "356it [02:31,  3.37it/s]\u001b[A\u001b[A\n",
      "\n",
      "357it [02:31,  3.76it/s]\u001b[A\u001b[A\n",
      "\n",
      "358it [02:32,  4.12it/s]\u001b[A\u001b[A\n",
      "\n",
      "359it [02:32,  2.49it/s]\u001b[A\u001b[A\n",
      "\n",
      "360it [02:32,  3.20it/s]\u001b[A\u001b[A\n",
      "\n",
      "361it [02:33,  3.93it/s]\u001b[A\u001b[A\n",
      "\n",
      "363it [02:33,  4.85it/s]\u001b[A\u001b[A\n",
      "\n",
      "364it [02:33,  3.61it/s]\u001b[A\u001b[A\n",
      "\n",
      "366it [02:34,  3.96it/s]\u001b[A\u001b[A\n",
      "\n",
      "367it [02:34,  4.76it/s]\u001b[A\u001b[A\n",
      "\n",
      "369it [02:34,  5.72it/s]\u001b[A\u001b[A\n",
      "\n",
      "371it [02:34,  7.27it/s]\u001b[A\u001b[A\n",
      "\n",
      "373it [02:34,  7.78it/s]\u001b[A\u001b[A\n",
      "\n",
      "375it [02:35,  7.38it/s]\u001b[A\u001b[A\n",
      "\n",
      "376it [02:35,  6.79it/s]\u001b[A\u001b[A\n",
      "\n",
      "377it [02:35,  5.04it/s]\u001b[A\u001b[A\n",
      "\n",
      "378it [02:35,  4.56it/s]\u001b[A\u001b[A\n",
      "\n",
      "379it [02:36,  3.02it/s]\u001b[A\u001b[A\n",
      "\n",
      "380it [02:36,  3.48it/s]\u001b[A\u001b[A\n",
      "\n",
      "381it [02:36,  4.04it/s]\u001b[A\u001b[A\n",
      "\n",
      "382it [02:37,  2.70it/s]\u001b[A\u001b[A\n",
      "\n",
      "384it [02:37,  3.44it/s]\u001b[A\u001b[A\n",
      "\n",
      "385it [02:37,  3.63it/s]\u001b[A\u001b[A\n",
      "\n",
      "386it [02:38,  3.48it/s]\u001b[A\u001b[A\n",
      "\n",
      "387it [02:38,  3.69it/s]\u001b[A\u001b[A\n",
      "\n",
      "388it [02:38,  3.71it/s]\u001b[A\u001b[A\n",
      "\n",
      "389it [02:38,  3.90it/s]\u001b[A\u001b[A\n",
      "\n",
      "390it [02:39,  2.65it/s]\u001b[A\u001b[A\n",
      "\n",
      "391it [02:39,  3.35it/s]\u001b[A\u001b[A\n",
      "\n",
      "392it [02:39,  3.62it/s]\u001b[A\u001b[A\n",
      "\n",
      "394it [02:40,  3.86it/s]\u001b[A\u001b[A\n",
      "\n",
      "395it [02:40,  4.17it/s]\u001b[A\u001b[A\n",
      "\n",
      "396it [02:40,  4.82it/s]\u001b[A\u001b[A\n",
      "\n",
      "397it [02:40,  4.89it/s]\u001b[A\u001b[A\n",
      "\n",
      "399it [02:40,  5.83it/s]\u001b[A\u001b[A\n",
      "\n",
      "402it [02:41,  7.30it/s]\u001b[A\u001b[A\n",
      "\n",
      "404it [02:41,  8.45it/s]\u001b[A\u001b[A\n",
      "\n",
      "406it [02:41,  8.72it/s]\u001b[A\u001b[A\n",
      "\n",
      "408it [02:42,  4.03it/s]\u001b[A\u001b[A\n",
      "\n",
      "410it [02:43,  3.79it/s]\u001b[A\u001b[A\n",
      "\n",
      "412it [02:43,  4.37it/s]\u001b[A\u001b[A\n",
      "\n",
      "413it [02:43,  3.51it/s]\u001b[A\u001b[A\n",
      "\n",
      "414it [02:44,  3.70it/s]\u001b[A\u001b[A\n",
      "\n",
      "416it [02:44,  4.58it/s]\u001b[A\u001b[A\n",
      "\n",
      "417it [02:44,  3.47it/s]\u001b[A\u001b[A\n",
      "\n",
      "419it [02:45,  3.96it/s]\u001b[A\u001b[A\n",
      "\n",
      "421it [02:45,  5.10it/s]\u001b[A\u001b[A\n",
      "\n",
      "422it [02:45,  5.42it/s]\u001b[A\u001b[A\n",
      "\n",
      "423it [02:45,  4.11it/s]\u001b[A\u001b[A\n",
      "\n",
      "426it [02:45,  5.47it/s]\u001b[A\u001b[A\n",
      "\n",
      "428it [02:46,  6.81it/s]\u001b[A\u001b[A\n",
      "\n",
      "431it [02:46,  8.68it/s]\u001b[A\u001b[A\n",
      "\n",
      "433it [02:46,  6.27it/s]\u001b[A\u001b[A\n",
      "\n",
      "435it [02:47,  6.65it/s]\u001b[A\u001b[A\n",
      "\n",
      "437it [02:47,  6.55it/s]\u001b[A\u001b[A\n",
      "\n",
      "439it [02:47,  6.89it/s]\u001b[A\u001b[A\n",
      "\n",
      "440it [02:47,  4.49it/s]\u001b[A\u001b[A\n",
      "\n",
      "442it [02:48,  5.54it/s]\u001b[A\u001b[A\n",
      "\n",
      "444it [02:48,  6.43it/s]\u001b[A\u001b[A\n",
      "\n",
      "445it [02:48,  4.96it/s]\u001b[A\u001b[A\n",
      "\n",
      "446it [02:48,  5.60it/s]\u001b[A\u001b[A\n",
      "\n",
      "447it [02:48,  6.31it/s]\u001b[A\u001b[A\n",
      "\n",
      "449it [02:48,  7.89it/s]\u001b[A\u001b[A\n",
      "\n",
      "451it [02:49,  6.49it/s]\u001b[A\u001b[A\n",
      "\n",
      "453it [02:49,  7.42it/s]\u001b[A\u001b[A\n",
      "\n",
      "454it [02:50,  2.75it/s]\u001b[A\u001b[A\n",
      "\n",
      "455it [02:50,  3.51it/s]\u001b[A\u001b[A\n",
      "\n",
      "458it [02:50,  4.71it/s]\u001b[A\u001b[A\n",
      "\n",
      "460it [02:51,  4.62it/s]\u001b[A\u001b[A\n",
      "\n",
      "462it [02:51,  3.92it/s]\u001b[A\u001b[A\n",
      "\n",
      "463it [02:52,  3.91it/s]\u001b[A\u001b[A\n",
      "\n",
      "465it [02:52,  4.38it/s]\u001b[A\u001b[A\n",
      "\n",
      "466it [02:52,  4.52it/s]\u001b[A\u001b[A\n",
      "\n",
      "468it [02:52,  5.20it/s]\u001b[A\u001b[A\n",
      "\n",
      "470it [02:53,  6.27it/s]\u001b[A\u001b[A\n",
      "\n",
      "471it [02:53,  5.24it/s]\u001b[A\u001b[A\n",
      "\n",
      "472it [02:53,  5.31it/s]\u001b[A\u001b[A\n",
      "\n",
      "475it [02:53,  5.72it/s]\u001b[A\u001b[A\n",
      "\n",
      "476it [02:54,  5.92it/s]\u001b[A\u001b[A\n",
      "\n",
      "477it [02:54,  5.26it/s]\u001b[A\u001b[A\n",
      "\n",
      "478it [02:54,  5.51it/s]\u001b[A\u001b[A\n",
      "\n",
      "479it [02:54,  6.00it/s]\u001b[A\u001b[A\n",
      "\n",
      "480it [02:55,  4.29it/s]\u001b[A\u001b[A\n",
      "\n",
      "482it [02:55,  5.28it/s]\u001b[A\u001b[A\n",
      "\n",
      "483it [02:55,  4.27it/s]\u001b[A\u001b[A\n",
      "\n",
      "484it [02:55,  4.81it/s]\u001b[A\u001b[A\n",
      "\n",
      "486it [02:56,  4.97it/s]\u001b[A\u001b[A\n",
      "\n",
      "489it [02:56,  6.09it/s]\u001b[A\u001b[A\n",
      "\n",
      "491it [02:56,  7.60it/s]\u001b[A\u001b[A\n",
      "\n",
      "493it [02:57,  4.12it/s]\u001b[A\u001b[A\n",
      "\n",
      "496it [02:57,  5.43it/s]\u001b[A\u001b[A\n",
      "\n",
      "498it [02:57,  5.30it/s]\u001b[A\u001b[A\n",
      "\n",
      "499it [02:58,  3.24it/s]\u001b[A\u001b[A\n",
      "\n",
      "501it [02:59,  2.78it/s]\u001b[A\u001b[A\n",
      "\n",
      "502it [02:59,  3.53it/s]\u001b[A\u001b[A\n",
      "\n",
      "504it [03:00,  3.67it/s]\u001b[A\u001b[A\n",
      "\n",
      "506it [03:00,  4.61it/s]\u001b[A\u001b[A\n",
      "\n",
      "508it [03:00,  5.80it/s]\u001b[A\u001b[A\n",
      "\n",
      "509it [03:00,  4.95it/s]\u001b[A\u001b[A\n",
      "\n",
      "510it [03:00,  5.36it/s]\u001b[A\u001b[A\n",
      "\n",
      "511it [03:01,  4.09it/s]\u001b[A\u001b[A\n",
      "\n",
      "515it [03:01,  5.52it/s]\u001b[A\u001b[A\n",
      "\n",
      "517it [03:02,  4.42it/s]\u001b[A\u001b[A\n",
      "\n",
      "521it [03:02,  5.79it/s]\u001b[A\u001b[A\n",
      "\n",
      "523it [03:02,  6.06it/s]\u001b[A\u001b[A\n",
      "\n",
      "525it [03:02,  5.54it/s]\u001b[A\u001b[A\n",
      "\n",
      "527it [03:03,  7.01it/s]\u001b[A\u001b[A\n",
      "\n",
      "529it [03:04,  3.34it/s]\u001b[A\u001b[A\n",
      "\n",
      "530it [03:04,  3.84it/s]\u001b[A\u001b[A\n",
      "\n",
      "532it [03:04,  4.06it/s]\u001b[A\u001b[A\n",
      "\n",
      "534it [03:05,  4.45it/s]\u001b[A\u001b[A\n",
      "\n",
      "535it [03:05,  5.24it/s]\u001b[A\u001b[A\n",
      "\n",
      "537it [03:05,  6.55it/s]\u001b[A\u001b[A\n",
      "\n",
      "538it [03:05,  6.59it/s]\u001b[A\u001b[A\n",
      "\n",
      "539it [03:06,  3.62it/s]\u001b[A\u001b[A\n",
      "\n",
      "540it [03:06,  3.60it/s]\u001b[A\u001b[A\n",
      "\n",
      "542it [03:06,  4.63it/s]\u001b[A\u001b[A\n",
      "\n",
      "544it [03:06,  5.65it/s]\u001b[A\u001b[A\n",
      "\n",
      "545it [03:07,  5.24it/s]\u001b[A\u001b[A\n",
      "\n",
      "548it [03:08,  3.67it/s]\u001b[A\u001b[A\n",
      "\n",
      "550it [03:09,  3.17it/s]\u001b[A\u001b[A\n",
      "\n",
      "551it [03:09,  3.73it/s]\u001b[A\u001b[A\n",
      "\n",
      "552it [03:09,  3.56it/s]\u001b[A\u001b[A\n",
      "\n",
      "554it [03:09,  4.65it/s]\u001b[A\u001b[A\n",
      "\n",
      "556it [03:10,  5.37it/s]\u001b[A\u001b[A\n",
      "\n",
      "558it [03:10,  6.60it/s]\u001b[A\u001b[A\n",
      "\n",
      "561it [03:10,  6.55it/s]\u001b[A\u001b[A\n",
      "\n",
      "562it [03:11,  2.85it/s]\u001b[A\u001b[A\n",
      "\n",
      "563it [03:11,  3.50it/s]\u001b[A\u001b[A\n",
      "\n",
      "564it [03:11,  4.28it/s]\u001b[A\u001b[A\n",
      "\n",
      "565it [03:12,  4.01it/s]\u001b[A\u001b[A\n",
      "\n",
      "566it [03:12,  3.83it/s]\u001b[A\u001b[A\n",
      "\n",
      "568it [03:12,  5.03it/s]\u001b[A\u001b[A\n",
      "\n",
      "570it [03:12,  6.26it/s]\u001b[A\u001b[A\n",
      "\n",
      "572it [03:12,  7.43it/s]\u001b[A\u001b[A\n",
      "\n",
      "574it [03:14,  3.40it/s]\u001b[A\u001b[A\n",
      "\n",
      "576it [03:14,  3.32it/s]\u001b[A\u001b[A\n",
      "\n",
      "577it [03:14,  3.60it/s]\u001b[A\u001b[A\n",
      "\n",
      "578it [03:15,  4.35it/s]\u001b[A\u001b[A\n",
      "\n",
      "579it [03:15,  5.16it/s]\u001b[A\u001b[A\n",
      "\n",
      "581it [03:15,  6.32it/s]\u001b[A\u001b[A\n",
      "\n",
      "582it [03:15,  5.84it/s]\u001b[A\u001b[A\n",
      "\n",
      "583it [03:15,  5.44it/s]\u001b[A\u001b[A\n",
      "\n",
      "584it [03:16,  4.73it/s]\u001b[A\u001b[A\n",
      "\n",
      "585it [03:16,  4.29it/s]\u001b[A\u001b[A\n",
      "\n",
      "587it [03:16,  5.57it/s]\u001b[A\u001b[A\n",
      "\n",
      "588it [03:17,  3.13it/s]\u001b[A\u001b[A\n",
      "\n",
      "591it [03:17,  4.25it/s]\u001b[A\u001b[A\n",
      "\n",
      "593it [03:17,  4.74it/s]\u001b[A\u001b[A\n",
      "\n",
      "595it [03:17,  5.88it/s]\u001b[A\u001b[A\n",
      "\n",
      "597it [03:18,  5.04it/s]\u001b[A\u001b[A\n",
      "\n",
      "600it [03:18,  5.72it/s]\u001b[A\u001b[A\n",
      "\n",
      "602it [03:18,  5.74it/s]\u001b[A\u001b[A\n",
      "\n",
      "603it [03:19,  4.13it/s]\u001b[A\u001b[A\n",
      "\n",
      "604it [03:19,  4.33it/s]\u001b[A\u001b[A\n",
      "\n",
      "607it [03:19,  5.20it/s]\u001b[A\u001b[A\n",
      "\n",
      "608it [03:19,  5.29it/s]\u001b[A\u001b[A\n",
      "\n",
      "610it [03:20,  5.15it/s]\u001b[A\u001b[A\n",
      "\n",
      "611it [03:20,  5.01it/s]\u001b[A\u001b[A\n",
      "\n",
      "612it [03:21,  3.10it/s]\u001b[A\u001b[A\n",
      "\n",
      "614it [03:21,  4.06it/s]\u001b[A\u001b[A\n",
      "\n",
      "616it [03:21,  5.03it/s]\u001b[A\u001b[A\n",
      "\n",
      "617it [03:21,  4.15it/s]\u001b[A\u001b[A\n",
      "\n",
      "620it [03:22,  4.58it/s]\u001b[A\u001b[A\n",
      "\n",
      "621it [03:22,  4.00it/s]\u001b[A\u001b[A\n",
      "\n",
      "623it [03:22,  4.48it/s]\u001b[A\u001b[A\n",
      "\n",
      "624it [03:23,  4.20it/s]\u001b[A\u001b[A\n",
      "\n",
      "625it [03:23,  3.66it/s]\u001b[A\u001b[A\n",
      "\n",
      "627it [03:23,  4.19it/s]\u001b[A\u001b[A\n",
      "\n",
      "628it [03:24,  3.41it/s]\u001b[A\u001b[A\n",
      "\n",
      "629it [03:24,  3.67it/s]\u001b[A\u001b[A\n",
      "\n",
      "630it [03:24,  3.53it/s]\u001b[A\u001b[A\n",
      "\n",
      "631it [03:25,  3.06it/s]\u001b[A\u001b[A\n",
      "\n",
      "632it [03:25,  3.16it/s]\u001b[A\u001b[A\n",
      "\n",
      "634it [03:25,  4.16it/s]\u001b[A\u001b[A\n",
      "\n",
      "635it [03:25,  4.65it/s]\u001b[A\u001b[A\n",
      "\n",
      "636it [03:26,  5.32it/s]\u001b[A\u001b[A\n",
      "\n",
      "638it [03:26,  6.29it/s]\u001b[A\u001b[A\n",
      "\n",
      "639it [03:26,  3.76it/s]\u001b[A\u001b[A\n",
      "\n",
      "640it [03:27,  2.69it/s]\u001b[A\u001b[A\n",
      "\n",
      "642it [03:27,  3.48it/s]\u001b[A\u001b[A\n",
      "\n",
      "643it [03:28,  2.29it/s]\u001b[A\u001b[A\n",
      "\n",
      "644it [03:28,  2.44it/s]\u001b[A\u001b[A\n",
      "\n",
      "645it [03:30,  1.20it/s]\u001b[A\u001b[A\n",
      "\n",
      "649it [03:30,  1.68it/s]\u001b[A\u001b[A\n",
      "\n",
      "650it [03:31,  1.92it/s]\u001b[A\u001b[A\n",
      "\n",
      "651it [03:31,  1.71it/s]\u001b[A\u001b[A\n",
      "\n",
      "653it [03:32,  2.23it/s]\u001b[A\u001b[A\n",
      "\n",
      "655it [03:32,  2.91it/s]\u001b[A\u001b[A\n",
      "\n",
      "657it [03:32,  3.45it/s]\u001b[A\u001b[A\n",
      "\n",
      "659it [03:32,  4.41it/s]\u001b[A\u001b[A\n",
      "\n",
      "660it [03:32,  5.27it/s]\u001b[A\u001b[A\n",
      "\n",
      "661it [03:32,  5.41it/s]\u001b[A\u001b[A\n",
      "\n",
      "662it [03:33,  6.14it/s]\u001b[A\u001b[A\n",
      "\n",
      "664it [03:33,  7.25it/s]\u001b[A\u001b[A\n",
      "\n",
      "666it [03:33,  8.04it/s]\u001b[A\u001b[A\n",
      "\n",
      "668it [03:33,  9.69it/s]\u001b[A\u001b[A\n",
      "\n",
      "670it [03:34,  3.46it/s]\u001b[A\u001b[A\n",
      "\n",
      "671it [03:35,  4.07it/s]\u001b[A\u001b[A\n",
      "\n",
      "672it [03:35,  4.24it/s]\u001b[A\u001b[A\n",
      "\n",
      "674it [03:35,  5.12it/s]\u001b[A\u001b[A\n",
      "\n",
      "676it [03:36,  3.43it/s]\u001b[A\u001b[A\n",
      "\n",
      "678it [03:36,  4.55it/s]\u001b[A\u001b[A\n",
      "\n",
      "680it [03:36,  5.03it/s]\u001b[A\u001b[A\n",
      "\n",
      "682it [03:37,  5.94it/s]\u001b[A\u001b[A\n",
      "\n",
      "683it [03:37,  5.13it/s]\u001b[A\u001b[A\n",
      "\n",
      "685it [03:37,  5.56it/s]\u001b[A\u001b[A\n",
      "\n",
      "686it [03:37,  5.76it/s]\u001b[A\u001b[A\n",
      "\n",
      "689it [03:38,  6.43it/s]\u001b[A\u001b[A\n",
      "\n",
      "690it [03:38,  3.81it/s]\u001b[A\u001b[A\n",
      "\n",
      "693it [03:38,  4.89it/s]\u001b[A\u001b[A\n",
      "\n",
      "694it [03:39,  5.42it/s]\u001b[A\u001b[A\n",
      "\n",
      "697it [03:39,  6.36it/s]\u001b[A\u001b[A\n",
      "\n",
      "698it [03:39,  6.98it/s]\u001b[A\u001b[A\n",
      "\n",
      "699it [03:39,  7.12it/s]\u001b[A\u001b[A\n",
      "\n",
      "700it [03:39,  7.37it/s]\u001b[A\u001b[A\n",
      "\n",
      "701it [03:39,  7.55it/s]\u001b[A\u001b[A\n",
      "\n"
     ]
    },
    {
     "name": "stderr",
     "output_type": "stream",
     "text": [
      "702it [03:40,  6.44it/s]\u001b[A\u001b[A\n",
      "\n",
      "703it [03:40,  6.00it/s]\u001b[A\u001b[A\n",
      "\n",
      "704it [03:40,  4.97it/s]\u001b[A\u001b[A\n",
      "\n",
      "706it [03:40,  5.81it/s]\u001b[A\u001b[A\n",
      "\n",
      "707it [03:40,  6.38it/s]\u001b[A\u001b[A\n",
      "\n",
      "708it [03:40,  7.01it/s]\u001b[A\u001b[A\n",
      "\n",
      "710it [03:41,  6.96it/s]\u001b[A\u001b[A\n",
      "\n",
      "711it [03:41,  6.30it/s]\u001b[A\u001b[A\n",
      "\n",
      "712it [03:41,  6.82it/s]\u001b[A\u001b[A\n",
      "\n",
      "715it [03:41,  8.84it/s]\u001b[A\u001b[A\n",
      "\n",
      "717it [03:42,  4.32it/s]\u001b[A\u001b[A\n",
      "\n",
      "719it [03:42,  5.25it/s]\u001b[A\u001b[A\n",
      "\n",
      "721it [03:43,  5.99it/s]\u001b[A\u001b[A\n",
      "\n",
      "723it [03:43,  6.37it/s]\u001b[A\u001b[A\n",
      "\n",
      "725it [03:43,  5.36it/s]\u001b[A\u001b[A\n",
      "\n",
      "727it [03:44,  5.63it/s]\u001b[A\u001b[A\n",
      "\n",
      "730it [03:44,  6.96it/s]\u001b[A\u001b[A\n",
      "\n",
      "732it [03:44,  8.61it/s]\u001b[A\u001b[A\n",
      "\n",
      "734it [03:44,  8.36it/s]\u001b[A\u001b[A\n",
      "\n",
      "736it [03:44,  8.71it/s]\u001b[A\u001b[A\n",
      "\n",
      "738it [03:45,  9.30it/s]\u001b[A\u001b[A\n",
      "\n",
      "741it [03:45, 10.78it/s]\u001b[A\u001b[A\n",
      "\n",
      "743it [03:45, 12.02it/s]\u001b[A\u001b[A\n",
      "\n",
      "746it [03:45, 11.62it/s]\u001b[A\u001b[A\n",
      "\n",
      "748it [03:46,  8.99it/s]\u001b[A\u001b[A\n",
      "\n",
      "751it [03:46,  9.56it/s]\u001b[A\u001b[A\n",
      "\n",
      "753it [03:46,  9.72it/s]\u001b[A\u001b[A\n",
      "\n",
      "755it [03:46,  7.87it/s]\u001b[A\u001b[A\n",
      "\n",
      "756it [03:46,  8.13it/s]\u001b[A\u001b[A\n",
      "\n",
      "758it [03:47,  8.84it/s]\u001b[A\u001b[A\n",
      "\n",
      "759it [03:47,  8.35it/s]\u001b[A\u001b[A\n",
      "\n",
      "762it [03:47,  9.58it/s]\u001b[A\u001b[A\n",
      "\n",
      "764it [03:47, 10.81it/s]\u001b[A\u001b[A\n",
      "\n",
      "767it [03:47, 11.69it/s]\u001b[A\u001b[A\n",
      "\n",
      "769it [03:48, 11.26it/s]\u001b[A\u001b[A\n",
      "\n",
      "771it [03:48, 10.29it/s]\u001b[A\u001b[A\n",
      "\n",
      "773it [03:48, 10.40it/s]\u001b[A\u001b[A\n",
      "\n",
      "775it [03:49,  4.21it/s]\u001b[A\u001b[A\n",
      "\n",
      "776it [03:49,  4.74it/s]\u001b[A\u001b[A\n",
      "\n",
      "779it [03:49,  6.33it/s]\u001b[A\u001b[A\n",
      "\n",
      "783it [03:49,  8.36it/s]\u001b[A\u001b[A\n",
      "\n",
      "786it [03:50,  9.29it/s]\u001b[A\u001b[A\n",
      "\n",
      "788it [03:50,  9.35it/s]\u001b[A\u001b[A\n",
      "\n",
      "790it [03:50, 10.86it/s]\u001b[A\u001b[A\n",
      "\n",
      "792it [03:50,  9.40it/s]\u001b[A\u001b[A\n",
      "\n",
      "794it [03:51,  6.98it/s]\u001b[A\u001b[A\n",
      "\n",
      "796it [03:51,  6.89it/s]\u001b[A\u001b[A\n",
      "\n",
      "798it [03:51,  6.38it/s]\u001b[A\u001b[A\n",
      "\n",
      "801it [03:52,  8.24it/s]\u001b[A\u001b[A\n",
      "\n",
      "803it [03:52,  8.83it/s]\u001b[A\u001b[A\n",
      "\n",
      "805it [03:52,  9.09it/s]\u001b[A\u001b[A\n",
      "\n",
      "807it [03:53,  4.53it/s]\u001b[A\u001b[A\n",
      "\n",
      "809it [03:53,  5.11it/s]\u001b[A\u001b[A\n",
      "\n",
      "811it [03:53,  6.15it/s]\u001b[A\u001b[A\n",
      "\n",
      "813it [03:54,  5.94it/s]\u001b[A\u001b[A\n",
      "\n",
      "814it [03:54,  3.71it/s]\u001b[A\u001b[A\n",
      "\n",
      "816it [03:54,  4.36it/s]\u001b[A\u001b[A\n",
      "\n",
      "820it [03:55,  5.70it/s]\u001b[A\u001b[A\n",
      "\n",
      "822it [03:55,  5.51it/s]\u001b[A\u001b[A\n",
      "\n",
      "826it [03:55,  7.42it/s]\u001b[A\u001b[A\n",
      "\n",
      "828it [03:55,  9.04it/s]\u001b[A\u001b[A\n",
      "\n",
      "830it [03:55,  9.56it/s]\u001b[A\u001b[A\n",
      "\n",
      "832it [03:56,  5.50it/s]\u001b[A\u001b[A\n",
      "\n",
      "834it [03:57,  5.24it/s]\u001b[A\u001b[A\n",
      "\n",
      "835it [03:57,  3.27it/s]\u001b[A\u001b[A\n",
      "\n",
      "837it [03:57,  3.86it/s]\u001b[A\u001b[A\n",
      "\n",
      "839it [03:58,  4.69it/s]\u001b[A\u001b[A\n",
      "\n",
      "840it [03:58,  4.09it/s]\u001b[A\u001b[A\n",
      "\n",
      "841it [03:58,  4.89it/s]\u001b[A\u001b[A\n",
      "\n",
      "843it [03:58,  6.27it/s]\u001b[A\u001b[A\n",
      "\n",
      "845it [03:58,  7.30it/s]\u001b[A\u001b[A\n",
      "\n",
      "848it [03:59,  8.24it/s]\u001b[A\u001b[A\n",
      "\n",
      "851it [03:59, 10.45it/s]\u001b[A\u001b[A\n",
      "\n",
      "853it [03:59,  8.93it/s]\u001b[A\u001b[A\n",
      "\n",
      "855it [04:00,  4.11it/s]\u001b[A\u001b[A\n",
      "\n",
      "857it [04:00,  5.30it/s]\u001b[A\u001b[A\n",
      "\n",
      "859it [04:00,  6.75it/s]\u001b[A\u001b[A\n",
      "\n",
      "861it [04:01,  6.99it/s]\u001b[A\u001b[A\n",
      "\n",
      "863it [04:01,  7.23it/s]\u001b[A\u001b[A\n",
      "\n",
      "865it [04:04,  1.89it/s]\u001b[A\u001b[A\n",
      "\n",
      "867it [04:05,  2.03it/s]\u001b[A\u001b[A\n",
      "\n",
      "868it [04:05,  1.96it/s]\u001b[A\u001b[A\n",
      "\n",
      "871it [04:05,  2.60it/s]\u001b[A\u001b[A\n",
      "\n",
      "873it [04:06,  3.48it/s]\u001b[A\u001b[A\n",
      "\n",
      "874it [04:06,  2.30it/s]\u001b[A\u001b[A\n",
      "\n",
      "878it [04:07,  3.11it/s]\u001b[A\u001b[A\n",
      "\n",
      "881it [04:07,  4.15it/s]\u001b[A\u001b[A\n",
      "\n",
      "883it [04:08,  2.45it/s]\u001b[A\u001b[A\n",
      "\n",
      "885it [04:08,  3.31it/s]\u001b[A\u001b[A\n",
      "\n",
      "887it [04:09,  3.34it/s]\u001b[A\u001b[A\n",
      "\n",
      "889it [04:09,  4.45it/s]\u001b[A\u001b[A\n",
      "\n",
      "891it [04:09,  5.68it/s]\u001b[A\u001b[A\n",
      "\n",
      "893it [04:09,  6.42it/s]\u001b[A\u001b[A\n",
      "\n",
      "895it [04:10,  4.75it/s]\u001b[A\u001b[A\n",
      "\n",
      "896it [04:10,  4.67it/s]\u001b[A\u001b[A\n",
      "\n",
      "898it [04:11,  5.62it/s]\u001b[A\u001b[A\n",
      "\n",
      "901it [04:11,  7.30it/s]\u001b[A\u001b[A\n",
      "\n",
      "903it [04:12,  3.87it/s]\u001b[A\u001b[A\n",
      "\n",
      "904it [04:12,  4.30it/s]\u001b[A\u001b[A\n",
      "\n",
      "906it [04:12,  5.47it/s]\u001b[A\u001b[A\n",
      "\n",
      "910it [04:12,  7.00it/s]\u001b[A\u001b[A\n",
      "\n",
      "913it [04:12,  8.77it/s]\u001b[A\u001b[A\n",
      "\n",
      "915it [04:13,  5.07it/s]\u001b[A\u001b[A\n",
      "\n",
      "918it [04:13,  6.50it/s]\u001b[A\u001b[A\n",
      "\n",
      "921it [04:13,  8.09it/s]\u001b[A\u001b[A\n",
      "\n",
      "926it [04:14, 10.55it/s]\u001b[A\u001b[A\n",
      "\n",
      "929it [04:14, 11.77it/s]\u001b[A\u001b[A\n",
      "\n",
      "932it [04:14, 11.70it/s]\u001b[A\u001b[A\n",
      "\n",
      "934it [04:14, 11.74it/s]\u001b[A\u001b[A\n",
      "\n",
      "936it [04:14, 12.02it/s]\u001b[A\u001b[A\n",
      "\n",
      "939it [04:15, 14.43it/s]\u001b[A\u001b[A\n",
      "\n",
      "942it [04:15, 16.36it/s]\u001b[A\u001b[A\n",
      "\n",
      "945it [04:15, 10.72it/s]\u001b[A\u001b[A\n",
      "\n",
      "947it [04:16,  6.01it/s]\u001b[A\u001b[A\n",
      "\n",
      "949it [04:16,  7.47it/s]\u001b[A\u001b[A\n",
      "\n",
      "951it [04:16,  7.99it/s]\u001b[A\u001b[A\n",
      "\n",
      "953it [04:16,  9.18it/s]\u001b[A\u001b[A\n",
      "\n",
      "955it [04:17,  6.78it/s]\u001b[A\u001b[A\n",
      "\n",
      "957it [04:17,  8.34it/s]\u001b[A\u001b[A\n",
      "\n",
      "959it [04:17,  9.97it/s]\u001b[A\u001b[A\n",
      "\n",
      "961it [04:17,  8.42it/s]\u001b[A\u001b[A\n",
      "\n",
      "963it [04:18,  6.12it/s]\u001b[A\u001b[A\n",
      "\n",
      "964it [04:18,  5.37it/s]\u001b[A\u001b[A\n",
      "\n",
      "967it [04:18,  6.69it/s]\u001b[A\u001b[A\n",
      "\n",
      "969it [04:18,  7.34it/s]\u001b[A\u001b[A\n",
      "\n",
      "971it [04:19,  7.78it/s]\u001b[A\u001b[A\n",
      "\n",
      "972it [04:19,  6.02it/s]\u001b[A\u001b[A\n",
      "\n",
      "973it [04:19,  6.62it/s]\u001b[A\u001b[A\n",
      "\n",
      "975it [04:19,  7.19it/s]\u001b[A\u001b[A\n",
      "\n",
      "977it [04:19,  8.81it/s]\u001b[A\u001b[A\n",
      "\n",
      "980it [04:20, 11.10it/s]\u001b[A\u001b[A\n",
      "\n",
      "983it [04:20, 13.02it/s]\u001b[A\u001b[A\n",
      "\n",
      "985it [04:20,  8.60it/s]\u001b[A\u001b[A\n",
      "\n",
      "987it [04:21,  6.35it/s]\u001b[A\u001b[A\n",
      "\n",
      "989it [04:21,  5.87it/s]\u001b[A\u001b[A\n",
      "\n",
      "991it [04:21,  6.74it/s]\u001b[A\u001b[A\n",
      "\n",
      "993it [04:22,  5.50it/s]\u001b[A\u001b[A\n",
      "\n",
      "994it [04:22,  6.30it/s]\u001b[A\u001b[A\n",
      "\n",
      "997it [04:22,  7.91it/s]\u001b[A\u001b[A\n",
      "\n",
      "1000it [04:22,  9.82it/s]\u001b[A\u001b[A\n",
      "\n",
      "\u001b[A\u001b[A"
     ]
    },
    {
     "name": "stdout",
     "output_type": "stream",
     "text": [
      "tiempo de guardado: 17.181768894195557\n",
      "Demora total: 279.8488667011261\n"
     ]
    }
   ],
   "source": [
    "start = time.time()\n",
    "genWordVectors_Entity(doc_df=articles_df, coarseNE_df=entities_df,\n",
    "                      strategy='exp_decay', W=5, w2v_model=w2v_model, splitType='train')\n",
    "end = time.time()\n",
    "print('Demora total: {}'.format(end - start))"
   ]
  },
  {
   "cell_type": "markdown",
   "metadata": {},
   "source": [
    "### Generación de instancias utilizando una ventana simétrica de palabras que rodea a la palabra objetivo. \n",
    "\n",
    "Estas instancias van a ser utilizadas en los modelos: CNN y ladder CNN."
   ]
  },
  {
   "cell_type": "code",
   "execution_count": 41,
   "metadata": {},
   "outputs": [],
   "source": [
    "art_IDs_sample_train = pd.read_csv('../corpus_WiNER/art_IDs_sample_train.csv')\n",
    "art_IDs_sample_train = np.array(art_IDs_sample_train['art_ID'])"
   ]
  },
  {
   "cell_type": "code",
   "execution_count": 29,
   "metadata": {},
   "outputs": [
    {
     "name": "stderr",
     "output_type": "stream",
     "text": [
      "3000it [01:09, 43.28it/s]            \n",
      "62937it [00:34, 1811.03it/s]\n"
     ]
    }
   ],
   "source": [
    "generate_cnn_instances(art_IDs_sample_train_extra, articles_df, entities_df, W=5, splitType='train_extra')"
   ]
  },
  {
   "cell_type": "markdown",
   "metadata": {},
   "source": [
    "### Cargamos los siguientes 600 documentos que se van a utilizar para VALIDACIÓN"
   ]
  },
  {
   "cell_type": "code",
   "execution_count": 60,
   "metadata": {},
   "outputs": [],
   "source": [
    "doc_filenames, coarseNE_filenames = read_filenames()\n",
    "doc_filenames = doc_filenames[2000:2600]\n",
    "coarseNE_filenames = coarseNE_filenames[2000:2600]\n",
    "docs_df, coarseNE_df = load_docs(doc_filenames, coarseNE_filenames)"
   ]
  },
  {
   "cell_type": "markdown",
   "metadata": {},
   "source": [
    "Nos quedamos con aquellos artículos que contienen al menos una entidad nombrada."
   ]
  },
  {
   "cell_type": "code",
   "execution_count": 61,
   "metadata": {},
   "outputs": [],
   "source": [
    "# art_IDs = coarseNE_df.art_ID.unique()"
   ]
  },
  {
   "cell_type": "markdown",
   "metadata": {},
   "source": [
    "#### Extraemos una muestra aleatoria de 250 artículos"
   ]
  },
  {
   "cell_type": "code",
   "execution_count": 62,
   "metadata": {},
   "outputs": [],
   "source": [
    "# np.random.seed(42)\n",
    "# np.random.shuffle(art_IDs)\n",
    "# art_IDs_sample = art_IDs[0:250]\n",
    "#### Guardamos los IDs de los articulos seleccionados en la muestra\n",
    "# art_IDs_sample_df = pd.DataFrame(data=art_IDs_sample, columns=['art_ID'])\n",
    "# art_IDs_sample_df.to_csv('./corpus_WiNER/art_IDs_sample_dev.csv', index=False)\n",
    "#### Cargamos\n",
    "art_IDs_sample_dev = pd.read_csv('../corpus_WiNER/art_IDs_sample_dev.csv')\n",
    "art_IDs_sample_dev = np.array(art_IDs_sample_dev['art_ID'])\n",
    "#### Filtramos\n",
    "articles_df = docs_df[docs_df.art_ID.isin(art_IDs_sample_dev)]\n",
    "entities_df = coarseNE_df[coarseNE_df.art_ID.isin(art_IDs_sample_dev)]"
   ]
  },
  {
   "cell_type": "code",
   "execution_count": 65,
   "metadata": {},
   "outputs": [
    {
     "name": "stderr",
     "output_type": "stream",
     "text": [
      "88it [00:12,  6.06it/s]                      /home/ekokic/miniconda3/envs/thesis-tf-gpu/lib/python3.5/site-packages/numpy/core/fromnumeric.py:2920: RuntimeWarning: Mean of empty slice.\n",
      "  out=out, **kwargs)\n",
      "/home/ekokic/miniconda3/envs/thesis-tf-gpu/lib/python3.5/site-packages/numpy/core/_methods.py:85: RuntimeWarning: invalid value encountered in double_scalars\n",
      "  ret = ret.dtype.type(ret / rcount)\n",
      "250it [00:33,  7.57it/s]\n"
     ]
    },
    {
     "name": "stdout",
     "output_type": "stream",
     "text": [
      "tiempo de guardado: 3.6093170642852783\n",
      "Demora total: 36.66985607147217\n"
     ]
    }
   ],
   "source": [
    "start = time.time()\n",
    "genWordVectors_Entity(doc_df=articles_df, coarseNE_df=entities_df,\n",
    "                      strategy='mean', W=5, w2v_model=w2v_model, splitType='dev')\n",
    "end = time.time()\n",
    "print('Demora total: {}'.format(end - start))"
   ]
  },
  {
   "cell_type": "code",
   "execution_count": 14,
   "metadata": {},
   "outputs": [
    {
     "name": "stderr",
     "output_type": "stream",
     "text": [
      "250it [00:04, 58.82it/s]             \n",
      "2739it [00:00, 4333.38it/s]\n"
     ]
    }
   ],
   "source": [
    "## Generación de instancias utilizando una ventana simétrica de palabras que rodea a la palabra objetivo. \n",
    "# Estas instancias van a ser utilizadas en los modelos: CNN y ladder CNN.\n",
    "generate_cnn_instances(art_IDs_sample_dev, articles_df, entities_df, W=5, splitType='dev')"
   ]
  },
  {
   "cell_type": "markdown",
   "metadata": {},
   "source": [
    "### Cargamos los siguientes 600 documentos que se van a utilizar para TEST"
   ]
  },
  {
   "cell_type": "code",
   "execution_count": 66,
   "metadata": {},
   "outputs": [],
   "source": [
    "doc_filenames, coarseNE_filenames = read_filenames()\n",
    "doc_filenames = doc_filenames[2600:3200]\n",
    "coarseNE_filenames = coarseNE_filenames[2600:3200]\n",
    "docs_df, coarseNE_df = load_docs(doc_filenames, coarseNE_filenames)"
   ]
  },
  {
   "cell_type": "markdown",
   "metadata": {},
   "source": [
    "Nos quedamos con aquellos artículos que contienen al menos una entidad nombrada."
   ]
  },
  {
   "cell_type": "code",
   "execution_count": 81,
   "metadata": {},
   "outputs": [],
   "source": [
    "# art_IDs = coarseNE_df.art_ID.unique()"
   ]
  },
  {
   "cell_type": "markdown",
   "metadata": {},
   "source": [
    "#### Extraemos una muestra aleatoria de 250 artículos"
   ]
  },
  {
   "cell_type": "code",
   "execution_count": 67,
   "metadata": {},
   "outputs": [],
   "source": [
    "# np.random.seed(42)\n",
    "# np.random.shuffle(art_IDs)\n",
    "# art_IDs_sample = art_IDs[0:250]\n",
    "#### Guardamos los IDs de los articulos seleccionados en la muestra\n",
    "# art_IDs_sample_df = pd.DataFrame(data=art_IDs_sample, columns=['art_ID'])\n",
    "# art_IDs_sample_df.to_csv('./corpus_WiNER/art_IDs_sample_test.csv', index=False)\n",
    "#### Cargamos\n",
    "art_IDs_sample_test = pd.read_csv('../corpus_WiNER/art_IDs_sample_test.csv')\n",
    "art_IDs_sample_test = np.array(art_IDs_sample_test['art_ID'])\n",
    "#### Filtramos\n",
    "articles_df = docs_df[docs_df.art_ID.isin(art_IDs_sample_test)]\n",
    "entities_df = coarseNE_df[coarseNE_df.art_ID.isin(art_IDs_sample_test)]"
   ]
  },
  {
   "cell_type": "code",
   "execution_count": 70,
   "metadata": {},
   "outputs": [
    {
     "name": "stderr",
     "output_type": "stream",
     "text": [
      "234it [00:39,  6.53it/s]             /home/ekokic/miniconda3/envs/thesis-tf-gpu/lib/python3.5/site-packages/numpy/core/fromnumeric.py:2920: RuntimeWarning: Mean of empty slice.\n",
      "  out=out, **kwargs)\n",
      "/home/ekokic/miniconda3/envs/thesis-tf-gpu/lib/python3.5/site-packages/numpy/core/_methods.py:85: RuntimeWarning: invalid value encountered in double_scalars\n",
      "  ret = ret.dtype.type(ret / rcount)\n",
      "250it [00:42,  5.90it/s]\n"
     ]
    },
    {
     "name": "stdout",
     "output_type": "stream",
     "text": [
      "tiempo de guardado: 4.12087869644165\n",
      "Demora total: 46.54045081138611\n"
     ]
    }
   ],
   "source": [
    "start = time.time()\n",
    "genWordVectors_Entity(doc_df=articles_df, coarseNE_df=entities_df,\n",
    "                      strategy='mean', W=5, w2v_model=w2v_model, splitType='test')\n",
    "end = time.time()\n",
    "print('Demora total: {}'.format(end - start))"
   ]
  },
  {
   "cell_type": "code",
   "execution_count": 20,
   "metadata": {},
   "outputs": [
    {
     "name": "stderr",
     "output_type": "stream",
     "text": [
      "250it [00:04, 54.33it/s]             \n",
      "3243it [00:00, 4803.98it/s]\n"
     ]
    }
   ],
   "source": [
    "## Generación de instancias utilizando una ventana simétrica de palabras que rodea a la palabra objetivo. \n",
    "# Estas instancias van a ser utilizadas en los modelos: CNN y ladder CNN.\n",
    "generate_cnn_instances(art_IDs_sample_test, articles_df, entities_df, W=5, splitType='test')"
   ]
  },
  {
   "cell_type": "code",
   "execution_count": null,
   "metadata": {},
   "outputs": [],
   "source": []
  },
  {
   "cell_type": "markdown",
   "metadata": {},
   "source": [
    "# Sequence labeling"
   ]
  },
  {
   "cell_type": "markdown",
   "metadata": {},
   "source": [
    "Veamos la distribución de la longitud de las oraciones para decidir un tamaño donde truncar."
   ]
  },
  {
   "cell_type": "code",
   "execution_count": 4,
   "metadata": {},
   "outputs": [],
   "source": [
    "# articles_df.to_csv('art_df_seq_tag_train.csv', index=False)\n",
    "# entities_df.to_csv('ent_df_seq_tag_train.csv', index=False)"
   ]
  },
  {
   "cell_type": "code",
   "execution_count": 26,
   "metadata": {},
   "outputs": [
    {
     "data": {
      "text/html": [
       "<div>\n",
       "<style scoped>\n",
       "    .dataframe tbody tr th:only-of-type {\n",
       "        vertical-align: middle;\n",
       "    }\n",
       "\n",
       "    .dataframe tbody tr th {\n",
       "        vertical-align: top;\n",
       "    }\n",
       "\n",
       "    .dataframe thead th {\n",
       "        text-align: right;\n",
       "    }\n",
       "</style>\n",
       "<table border=\"1\" class=\"dataframe\">\n",
       "  <thead>\n",
       "    <tr style=\"text-align: right;\">\n",
       "      <th></th>\n",
       "      <th>sentence</th>\n",
       "      <th>art_ID</th>\n",
       "    </tr>\n",
       "  </thead>\n",
       "  <tbody>\n",
       "    <tr>\n",
       "      <th>0</th>\n",
       "      <td>[Human, anatomy, -LRB-, gr, .]</td>\n",
       "      <td>13268.0</td>\n",
       "    </tr>\n",
       "    <tr>\n",
       "      <th>1</th>\n",
       "      <td>[ἀνατομία, ,, ``, dissection, '', ,, from, ἀνά...</td>\n",
       "      <td>13268.0</td>\n",
       "    </tr>\n",
       "    <tr>\n",
       "      <th>2</th>\n",
       "      <td>[Anatomy, is, subdivided, into, gross, anatomy...</td>\n",
       "      <td>13268.0</td>\n",
       "    </tr>\n",
       "    <tr>\n",
       "      <th>3</th>\n",
       "      <td>[Gross, anatomy, -LRB-, also, called, topograp...</td>\n",
       "      <td>13268.0</td>\n",
       "    </tr>\n",
       "    <tr>\n",
       "      <th>4</th>\n",
       "      <td>[Microscopic, anatomy, is, the, study, of, min...</td>\n",
       "      <td>13268.0</td>\n",
       "    </tr>\n",
       "  </tbody>\n",
       "</table>\n",
       "</div>"
      ],
      "text/plain": [
       "                                            sentence   art_ID\n",
       "0                     [Human, anatomy, -LRB-, gr, .]  13268.0\n",
       "1  [ἀνατομία, ,, ``, dissection, '', ,, from, ἀνά...  13268.0\n",
       "2  [Anatomy, is, subdivided, into, gross, anatomy...  13268.0\n",
       "3  [Gross, anatomy, -LRB-, also, called, topograp...  13268.0\n",
       "4  [Microscopic, anatomy, is, the, study, of, min...  13268.0"
      ]
     },
     "execution_count": 26,
     "metadata": {},
     "output_type": "execute_result"
    }
   ],
   "source": [
    "articles_df = pd.read_csv('art_df_seq_tag_train.csv')\n",
    "# https://stackoverflow.com/questions/1894269/convert-string-representation-of-list-to-list\n",
    "import ast\n",
    "articles_df['sentence'] = articles_df.sentence.map(lambda sen: ast.literal_eval(sen))\n",
    "articles_df.head()"
   ]
  },
  {
   "cell_type": "code",
   "execution_count": 27,
   "metadata": {},
   "outputs": [
    {
     "name": "stdout",
     "output_type": "stream",
     "text": [
      "Cantidad de oraciones para train: 20870\n"
     ]
    }
   ],
   "source": [
    "print('Cantidad de oraciones para train:', articles_df.shape[0])"
   ]
  },
  {
   "cell_type": "code",
   "execution_count": 28,
   "metadata": {},
   "outputs": [],
   "source": [
    "articles_df['sen_length'] = articles_df.sentence.apply(lambda sen: len(sen))"
   ]
  },
  {
   "cell_type": "code",
   "execution_count": 29,
   "metadata": {},
   "outputs": [
    {
     "data": {
      "text/html": [
       "<div>\n",
       "<style scoped>\n",
       "    .dataframe tbody tr th:only-of-type {\n",
       "        vertical-align: middle;\n",
       "    }\n",
       "\n",
       "    .dataframe tbody tr th {\n",
       "        vertical-align: top;\n",
       "    }\n",
       "\n",
       "    .dataframe thead th {\n",
       "        text-align: right;\n",
       "    }\n",
       "</style>\n",
       "<table border=\"1\" class=\"dataframe\">\n",
       "  <thead>\n",
       "    <tr style=\"text-align: right;\">\n",
       "      <th></th>\n",
       "      <th>sentence</th>\n",
       "      <th>art_ID</th>\n",
       "      <th>sen_length</th>\n",
       "    </tr>\n",
       "  </thead>\n",
       "  <tbody>\n",
       "    <tr>\n",
       "      <th>0</th>\n",
       "      <td>[Human, anatomy, -LRB-, gr, .]</td>\n",
       "      <td>13268.0</td>\n",
       "      <td>5</td>\n",
       "    </tr>\n",
       "    <tr>\n",
       "      <th>1</th>\n",
       "      <td>[ἀνατομία, ,, ``, dissection, '', ,, from, ἀνά...</td>\n",
       "      <td>13268.0</td>\n",
       "      <td>33</td>\n",
       "    </tr>\n",
       "    <tr>\n",
       "      <th>2</th>\n",
       "      <td>[Anatomy, is, subdivided, into, gross, anatomy...</td>\n",
       "      <td>13268.0</td>\n",
       "      <td>10</td>\n",
       "    </tr>\n",
       "    <tr>\n",
       "      <th>3</th>\n",
       "      <td>[Gross, anatomy, -LRB-, also, called, topograp...</td>\n",
       "      <td>13268.0</td>\n",
       "      <td>29</td>\n",
       "    </tr>\n",
       "    <tr>\n",
       "      <th>4</th>\n",
       "      <td>[Microscopic, anatomy, is, the, study, of, min...</td>\n",
       "      <td>13268.0</td>\n",
       "      <td>35</td>\n",
       "    </tr>\n",
       "  </tbody>\n",
       "</table>\n",
       "</div>"
      ],
      "text/plain": [
       "                                            sentence   art_ID  sen_length\n",
       "0                     [Human, anatomy, -LRB-, gr, .]  13268.0           5\n",
       "1  [ἀνατομία, ,, ``, dissection, '', ,, from, ἀνά...  13268.0          33\n",
       "2  [Anatomy, is, subdivided, into, gross, anatomy...  13268.0          10\n",
       "3  [Gross, anatomy, -LRB-, also, called, topograp...  13268.0          29\n",
       "4  [Microscopic, anatomy, is, the, study, of, min...  13268.0          35"
      ]
     },
     "execution_count": 29,
     "metadata": {},
     "output_type": "execute_result"
    }
   ],
   "source": [
    "articles_df.head()"
   ]
  },
  {
   "cell_type": "code",
   "execution_count": 50,
   "metadata": {},
   "outputs": [
    {
     "name": "stderr",
     "output_type": "stream",
     "text": [
      "/home/ekokic/miniconda3/envs/thesis-tf-gpu/lib/python3.5/site-packages/scipy/stats/stats.py:1713: FutureWarning: Using a non-tuple sequence for multidimensional indexing is deprecated; use `arr[tuple(seq)]` instead of `arr[seq]`. In the future this will be interpreted as an array index, `arr[np.array(seq)]`, which will result either in an error or a different result.\n",
      "  return np.add.reduce(sorted[indexer] * weights, axis=axis) / sumval\n"
     ]
    },
    {
     "data": {
      "image/png": "[encoded data removed]",
      "text/plain": [
       "<Figure size 432x288 with 1 Axes>"
      ]
     },
     "metadata": {},
     "output_type": "display_data"
    }
   ],
   "source": [
    "import seaborn as sns\n",
    "sns.set_style('darkgrid')\n",
    "ax = sns.distplot(list(articles_df.sen_length))"
   ]
  },
  {
   "cell_type": "code",
   "execution_count": 54,
   "metadata": {},
   "outputs": [
    {
     "name": "stdout",
     "output_type": "stream",
     "text": [
      "Sentence length mean: 24.315189266890272\n",
      "Sentence length median: 22.0\n"
     ]
    }
   ],
   "source": [
    "print('Sentence length mean:', np.mean(articles_df.sen_length))\n",
    "print('Sentence length median:', np.median(articles_df.sen_length))"
   ]
  },
  {
   "cell_type": "markdown",
   "metadata": {},
   "source": [
    "### Decision experimental: Se tomara max_len_size = 30"
   ]
  },
  {
   "cell_type": "code",
   "execution_count": 46,
   "metadata": {},
   "outputs": [
    {
     "data": {
      "text/html": [
       "<div>\n",
       "<style scoped>\n",
       "    .dataframe tbody tr th:only-of-type {\n",
       "        vertical-align: middle;\n",
       "    }\n",
       "\n",
       "    .dataframe tbody tr th {\n",
       "        vertical-align: top;\n",
       "    }\n",
       "\n",
       "    .dataframe thead th {\n",
       "        text-align: right;\n",
       "    }\n",
       "</style>\n",
       "<table border=\"1\" class=\"dataframe\">\n",
       "  <thead>\n",
       "    <tr style=\"text-align: right;\">\n",
       "      <th></th>\n",
       "      <th>art_ID</th>\n",
       "      <th>senIdx</th>\n",
       "      <th>begin</th>\n",
       "      <th>end</th>\n",
       "      <th>entityType</th>\n",
       "    </tr>\n",
       "  </thead>\n",
       "  <tbody>\n",
       "    <tr>\n",
       "      <th>0</th>\n",
       "      <td>12946.0</td>\n",
       "      <td>0</td>\n",
       "      <td>0</td>\n",
       "      <td>3</td>\n",
       "      <td>PER</td>\n",
       "    </tr>\n",
       "    <tr>\n",
       "      <th>1</th>\n",
       "      <td>12946.0</td>\n",
       "      <td>0</td>\n",
       "      <td>5</td>\n",
       "      <td>6</td>\n",
       "      <td>PER</td>\n",
       "    </tr>\n",
       "    <tr>\n",
       "      <th>2</th>\n",
       "      <td>12946.0</td>\n",
       "      <td>1</td>\n",
       "      <td>5</td>\n",
       "      <td>8</td>\n",
       "      <td>ORG</td>\n",
       "    </tr>\n",
       "    <tr>\n",
       "      <th>3</th>\n",
       "      <td>12946.0</td>\n",
       "      <td>1</td>\n",
       "      <td>9</td>\n",
       "      <td>14</td>\n",
       "      <td>LOC</td>\n",
       "    </tr>\n",
       "    <tr>\n",
       "      <th>4</th>\n",
       "      <td>12946.0</td>\n",
       "      <td>2</td>\n",
       "      <td>3</td>\n",
       "      <td>4</td>\n",
       "      <td>MISC</td>\n",
       "    </tr>\n",
       "  </tbody>\n",
       "</table>\n",
       "</div>"
      ],
      "text/plain": [
       "    art_ID  senIdx  begin  end entityType\n",
       "0  12946.0       0      0    3        PER\n",
       "1  12946.0       0      5    6        PER\n",
       "2  12946.0       1      5    8        ORG\n",
       "3  12946.0       1      9   14        LOC\n",
       "4  12946.0       2      3    4       MISC"
      ]
     },
     "execution_count": 46,
     "metadata": {},
     "output_type": "execute_result"
    }
   ],
   "source": [
    "entities_df = pd.read_csv('ent_df_seq_tag_train.csv')\n",
    "entities_df.head()"
   ]
  },
  {
   "cell_type": "code",
   "execution_count": 20,
   "metadata": {},
   "outputs": [
    {
     "name": "stderr",
     "output_type": "stream",
     "text": [
      "4870it [02:11, 36.94it/s]                    \n"
     ]
    }
   ],
   "source": [
    "doc_filenames, coarseNE_filenames = read_filenames()\n",
    "docs_df, coarseNE_df = load_docs(doc_filenames[0:2000], coarseNE_filenames[0:2000])\n",
    "# art_IDs = coarseNE_df.art_ID.unique() # Solo se ejecuta la primera vez sino no fueron guardados\n",
    "# # Extraemos una muestra aleatoria de n artículos\n",
    "# np.random.seed(42)\n",
    "# np.random.shuffle(art_IDs)\n",
    "# art_IDs_sample = art_IDs[0:5000]\n",
    "# # Guardamos los IDs de los articulos seleccionados en la muestra\n",
    "# art_IDs_sample_df = pd.DataFrame(data=art_IDs_sample, columns=['art_ID'])\n",
    "# art_IDs_sample_df.to_csv('../corpus_WiNER/art_IDs_seq_tag_sample_train.csv', index=False)\n",
    "art_IDs_sample_train = pd.read_csv('../corpus_WiNER/art_IDs_seq_tag_sample_train.csv')\n",
    "art_IDs_sample_train = np.array(art_IDs_sample_train['art_ID'])\n",
    "articles_df = docs_df[docs_df.art_ID.isin(art_IDs_sample_train)]\n",
    "entities_df = coarseNE_df[coarseNE_df.art_ID.isin(art_IDs_sample_train)]\n",
    "print('Cantidad de oraciones:', articles_df.shape[0])\n",
    "generate_seq_tag_instances(articles_df[:100000], entities_df, max_sen_length=30, splitType='train')"
   ]
  },
  {
   "cell_type": "code",
   "execution_count": 22,
   "metadata": {},
   "outputs": [
    {
     "name": "stderr",
     "output_type": "stream",
     "text": [
      "10it [00:00, 69.18it/s]              "
     ]
    },
    {
     "name": "stdout",
     "output_type": "stream",
     "text": [
      "Cantidad de oraciones: 21931\n"
     ]
    },
    {
     "name": "stderr",
     "output_type": "stream",
     "text": [
      "1812it [00:28, 63.77it/s]\n"
     ]
    }
   ],
   "source": [
    "doc_filenames, coarseNE_filenames = read_filenames()\n",
    "docs_df, coarseNE_df = load_docs(doc_filenames[2000:2600], coarseNE_filenames[2000:2600])\n",
    "# art_IDs = coarseNE_df.art_ID.unique() # Solo se ejecuta la primera vez sino no fueron guardados\n",
    "# # Extraemos una muestra aleatoria de n artículos\n",
    "# np.random.seed(42)\n",
    "# np.random.shuffle(art_IDs)\n",
    "# art_IDs_sample = art_IDs[0:2000]\n",
    "# # Guardamos los IDs de los articulos seleccionados en la muestra\n",
    "# art_IDs_sample_df = pd.DataFrame(data=art_IDs_sample, columns=['art_ID'])\n",
    "# art_IDs_sample_df.to_csv('../corpus_WiNER/art_IDs_seq_tag_sample_dev.csv', index=False)\n",
    "art_IDs_sample_dev = pd.read_csv('../corpus_WiNER/art_IDs_seq_tag_sample_dev.csv')\n",
    "art_IDs_sample_dev = np.array(art_IDs_sample_dev['art_ID'])\n",
    "articles_df = docs_df[docs_df.art_ID.isin(art_IDs_sample_dev)]\n",
    "entities_df = coarseNE_df[coarseNE_df.art_ID.isin(art_IDs_sample_dev)]\n",
    "print('Cantidad de oraciones:', articles_df.shape[0])\n",
    "generate_seq_tag_instances(articles_df[:20000], entities_df, max_sen_length=30, splitType='val')"
   ]
  },
  {
   "cell_type": "code",
   "execution_count": 23,
   "metadata": {},
   "outputs": [
    {
     "name": "stderr",
     "output_type": "stream",
     "text": [
      "9it [00:00, 87.62it/s]               "
     ]
    },
    {
     "name": "stdout",
     "output_type": "stream",
     "text": [
      "Cantidad de oraciones: 24436\n"
     ]
    },
    {
     "name": "stderr",
     "output_type": "stream",
     "text": [
      "1661it [00:27, 59.57it/s]\n"
     ]
    }
   ],
   "source": [
    "_seq_tagdoc_filenames, coarseNE_filenames = read_filenames()\n",
    "docs_df, coarseNE_df = load_docs(doc_filenames[2600:3200], coarseNE_filenames[2600:3200])\n",
    "# art_IDs = coarseNE_df.art_ID.unique() # Solo se ejecuta la primera vez sino no fueron guardados\n",
    "# # Extraemos una muestra aleatoria de n artículos\n",
    "# np.random.seed(42)\n",
    "# np.random.shuffle(art_IDs)\n",
    "# art_IDs_sample = art_IDs[0:2000]\n",
    "# # Guardamos los IDs de los articulos seleccionados en la muestra\n",
    "# art_IDs_sample_df = pd.DataFrame(data=art_IDs_sample, columns=['art_ID'])\n",
    "# art_IDs_sample_df.to_csv('../corpus_WiNER/art_IDs_seq_tag_sample_test.csv', index=False)\n",
    "art_IDs_sample_test = pd.read_csv('../corpus_WiNER/art_IDs_seq_tag_sample_test.csv')\n",
    "art_IDs_sample_test = np.array(art_IDs_sample_test['art_ID'])\n",
    "articles_df = docs_df[docs_df.art_ID.isin(art_IDs_sample_test)]\n",
    "entities_df = coarseNE_df[coarseNE_df.art_ID.isin(art_IDs_sample_test)]\n",
    "print('Cantidad de oraciones:', articles_df.shape[0])\n",
    "generate_seq_tag_instances(articles_df[:20000], entities_df, max_sen_length=30, splitType='test')"
   ]
  },
  {
   "cell_type": "code",
   "execution_count": null,
   "metadata": {},
   "outputs": [],
   "source": []
  }
 ],
 "metadata": {
  "kernelspec": {
   "display_name": "Python 3",
   "language": "python",
   "name": "python3"
  },
  "language_info": {
   "codemirror_mode": {
    "name": "ipython",
    "version": 3
   },
   "file_extension": ".py",
   "mimetype": "text/x-python",
   "name": "python",
   "nbconvert_exporter": "python",
   "pygments_lexer": "ipython3",
   "version": "3.5.6"
  }
 },
 "nbformat": 4,
 "nbformat_minor": 2
}
